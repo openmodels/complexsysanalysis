{
 "cells": [
  {
   "cell_type": "markdown",
   "id": "fc5bc856",
   "metadata": {},
   "source": [
    "# Cellular Automata\n",
    "\n",
    "Finite state machines across space!\n",
    "\n",
    "Rule 90: Discrete form of the logistic map: $x_{t+1} = r x_t (1 - x_t)$.\n",
    "\n",
    "$$x_{i,t+1} = r (x_{i-1,t} + x_{i+1,t}) (2 - (x_{i-1,t} + x_{i+1,t})$$\n",
    "\n",
    "If $r = 1$, simplifes to a set of rules:\n",
    " - If $x_{i-1,t} + x_{i+1,t} = 0$, then $x_{i,t+1} = 0$\n",
    " - If $x_{i-1,t} + x_{i+1,t} = 2$, then $x_{i,t+1} = 0$\n",
    " - If $x_{i-1,t} + x_{i+1,t} = 1$, then $x_{i,t+1} = 1$"
   ]
  },
  {
   "cell_type": "code",
   "execution_count": null,
   "id": "b2cfd3bd",
   "metadata": {},
   "outputs": [],
   "source": [
    "xx = matrix(0, 99, 100)\n",
    "xx[50, 1] = 1"
   ]
  },
  {
   "cell_type": "code",
   "execution_count": null,
   "id": "c88dcab1",
   "metadata": {
    "scrolled": true
   },
   "outputs": [],
   "source": [
    "image(xx)"
   ]
  },
  {
   "cell_type": "code",
   "execution_count": null,
   "id": "23bfa9f4",
   "metadata": {},
   "outputs": [],
   "source": [
    "for (tt in 2:100) {\n",
    "    for (ii in 2:98) {\n",
    "        xx[ii, tt] = (xx[ii-1, tt-1] + xx[ii+1, tt-1])*(2 - (xx[ii-1, tt-1] + xx[ii+1, tt-1]))\n",
    "    }\n",
    "}"
   ]
  },
  {
   "cell_type": "code",
   "execution_count": null,
   "id": "6c57530b",
   "metadata": {},
   "outputs": [],
   "source": [
    "image(xx)"
   ]
  },
  {
   "cell_type": "markdown",
   "id": "9d3c8554",
   "metadata": {},
   "source": [
    "# Sandpile model"
   ]
  },
  {
   "cell_type": "markdown",
   "id": "a960067d",
   "metadata": {},
   "source": [
    "Version 1: Add random grains"
   ]
  },
  {
   "cell_type": "code",
   "execution_count": null,
   "id": "6e702027",
   "metadata": {},
   "outputs": [],
   "source": [
    "cells = matrix(0, 40, 40)\n",
    "for (ii in 1:1000) {\n",
    "    rc = sample(40*40, 1)\n",
    "    cells[rc] = cells[rc] + 1\n",
    "}"
   ]
  },
  {
   "cell_type": "code",
   "execution_count": null,
   "id": "1594bd68",
   "metadata": {},
   "outputs": [],
   "source": [
    "image(cells, zlim=c(0, 4))"
   ]
  },
  {
   "cell_type": "code",
   "execution_count": null,
   "id": "e6315a70",
   "metadata": {},
   "outputs": [],
   "source": [
    "table(cells)"
   ]
  },
  {
   "cell_type": "code",
   "execution_count": null,
   "id": "2e09f824",
   "metadata": {
    "scrolled": false
   },
   "outputs": [],
   "source": [
    "which(cells >= 4)"
   ]
  },
  {
   "cell_type": "code",
   "execution_count": null,
   "id": "d7929cd4",
   "metadata": {},
   "outputs": [],
   "source": [
    "toppled = which(cells >= 4)\n",
    "cells[toppled] = cells[toppled] - 4\n",
    "cells[toppled - 1] = cells[toppled - 1] + 1\n",
    "cells[toppled + 1] = cells[toppled + 1] + 1\n",
    "cells[toppled - 40] = cells[toppled - 40] + 1\n",
    "cells[toppled + 40] = cells[toppled + 40] + 1"
   ]
  },
  {
   "cell_type": "code",
   "execution_count": null,
   "id": "d5cf3b86",
   "metadata": {},
   "outputs": [],
   "source": [
    "image(cells, zlim=c(0, 4))"
   ]
  },
  {
   "cell_type": "markdown",
   "id": "938152be",
   "metadata": {},
   "source": [
    "Version 2: Include this in the loop"
   ]
  },
  {
   "cell_type": "code",
   "execution_count": null,
   "id": "6c2a7575",
   "metadata": {
    "scrolled": true
   },
   "outputs": [],
   "source": [
    "size = 40\n",
    "cells = matrix(sample(4, size*size, replace=T) - 1, size, size)\n",
    "numtoppled = c()\n",
    "for (ii in 1:10000) {\n",
    "    rc = sample(size*size, 1)\n",
    "    cells[rc] = cells[rc] + 1\n",
    "    thistoppled = 0\n",
    "    while (any(cells >= 4)) {\n",
    "        toppled = which(cells >= 4)\n",
    "        thistoppled = thistoppled + length(toppled)\n",
    "        cells[toppled] = cells[toppled] - 4\n",
    "        cells[pmax(1, toppled - 1)] = cells[pmax(1, toppled - 1)] + 1\n",
    "        cells[pmin(size*size, toppled - 1)] = cells[pmin(size*size, toppled - 1)] + 1\n",
    "        cells[pmax(1, toppled - 40)] = cells[pmax(1, toppled - 40)] + 1\n",
    "        cells[pmin(size*size, toppled + 40)] = cells[pmin(size*size, toppled + 40)] + 1\n",
    "        if (any(is.na(cells)))\n",
    "            cancel\n",
    "    }\n",
    "    numtoppled = c(numtoppled, thistoppled)\n",
    "}"
   ]
  },
  {
   "cell_type": "code",
   "execution_count": null,
   "id": "b57dfc5f",
   "metadata": {
    "scrolled": true
   },
   "outputs": [],
   "source": [
    "image(cells)"
   ]
  },
  {
   "cell_type": "code",
   "execution_count": null,
   "id": "def1672e",
   "metadata": {},
   "outputs": [],
   "source": [
    "sum(numtoppled)"
   ]
  },
  {
   "cell_type": "code",
   "execution_count": null,
   "id": "3dff0398",
   "metadata": {},
   "outputs": [],
   "source": [
    "plot(numtoppled)"
   ]
  },
  {
   "cell_type": "code",
   "execution_count": null,
   "id": "b46b1c14",
   "metadata": {},
   "outputs": [],
   "source": [
    "library(ggplot2)\n",
    "ggplot(data.frame(nn=numtoppled), aes(nn)) +\n",
    "  geom_histogram()"
   ]
  },
  {
   "cell_type": "code",
   "execution_count": null,
   "id": "6ecfcbea",
   "metadata": {
    "scrolled": true
   },
   "outputs": [],
   "source": [
    "library(ggplot2)\n",
    "ggplot(data.frame(nn=numtoppled), aes(nn)) +\n",
    "  geom_histogram() + scale_x_log10() + scale_y_log10()"
   ]
  },
  {
   "cell_type": "markdown",
   "id": "d0878799",
   "metadata": {},
   "source": [
    "# Finding power law exponents"
   ]
  },
  {
   "cell_type": "code",
   "execution_count": null,
   "id": "25811ee2",
   "metadata": {},
   "outputs": [],
   "source": [
    "install.packages(\"VGAM\")\n",
    "library(VGAM)"
   ]
  },
  {
   "cell_type": "code",
   "execution_count": null,
   "id": "279a9b25",
   "metadata": {
    "scrolled": false
   },
   "outputs": [],
   "source": [
    "ggplot(data.frame(x=rpareto(1e6, shape=1)), aes(x)) + geom_histogram() + scale_x_log10() + scale_y_log10()"
   ]
  },
  {
   "cell_type": "code",
   "execution_count": null,
   "id": "f34b3e4f",
   "metadata": {},
   "outputs": [],
   "source": [
    "valeus = rpareto(1e6, shape=1)"
   ]
  },
  {
   "cell_type": "code",
   "execution_count": null,
   "id": "a24846bb",
   "metadata": {},
   "outputs": [],
   "source": [
    "bins = seq(log(1), log(10000), length.out=100)"
   ]
  },
  {
   "cell_type": "code",
   "execution_count": null,
   "id": "263a2828",
   "metadata": {},
   "outputs": [],
   "source": [
    "count = c()\n",
    "for (ii in 2:length(bins)) {\n",
    "    count = c(count, sum(log(valeus) >= bins[ii-1] & log(valeus) < bins[ii]))\n",
    "}"
   ]
  },
  {
   "cell_type": "code",
   "execution_count": null,
   "id": "0a97e647",
   "metadata": {},
   "outputs": [],
   "source": [
    "logct = log(count)\n",
    "logct[!is.finite(logct)] = NA\n",
    "midbn = (bins[-1] + bins[-length(bins)]) / 2"
   ]
  },
  {
   "cell_type": "code",
   "execution_count": null,
   "id": "45835fc7",
   "metadata": {},
   "outputs": [],
   "source": [
    "ggplot(data.frame(logct, midbn), aes(midbn, logct)) + geom_point() + geom_smooth(method='lm')"
   ]
  },
  {
   "cell_type": "code",
   "execution_count": null,
   "id": "48134f0d",
   "metadata": {},
   "outputs": [],
   "source": [
    "summary(lm(logct ~ midbn))"
   ]
  },
  {
   "cell_type": "markdown",
   "id": "69e03601",
   "metadata": {},
   "source": [
    "## Fit by maximum likelihood"
   ]
  },
  {
   "cell_type": "markdown",
   "id": "c9a1a6e2",
   "metadata": {},
   "source": [
    "Power law distribution is:\n",
    "$$p(x | \\beta) = C x^{-\\beta}$$\n",
    "\n",
    "We have to know $C$, so calculate:\n",
    "$$\\int_{x_{min}}^\\infty C x^{-\\beta} dx = 1$$"
   ]
  },
  {
   "cell_type": "markdown",
   "id": "ad310df1",
   "metadata": {},
   "source": [
    "Find $C = \\frac{-\\beta + 1}{x_{min}^{-\\beta + 1}}$\n",
    "\n",
    "Simplify the power law to:\n",
    "$$p(x | \\beta) = \\frac{-\\beta + 1}{x_{min}} \\left(\\frac{x}{x_{min}}\\right)^{-\\beta}$$"
   ]
  },
  {
   "cell_type": "markdown",
   "id": "1006e5f8",
   "metadata": {},
   "source": [
    "Solve for maximum likelihood of\n",
    "$$\\prod_i p(x_i | \\beta)$$\n",
    "\n",
    "Get $$\\hat\\beta = n \\left(\\sum_i \\log{\\left(\\frac{x_i}{x_{min}}\\right)}\\right)^{-1}$$"
   ]
  },
  {
   "cell_type": "code",
   "execution_count": null,
   "id": "1f3e0a47",
   "metadata": {},
   "outputs": [],
   "source": [
    "betahat = function(sizes, xmin) {\n",
    "    length(sizes) / sum(log(sizes / xmin))\n",
    "}"
   ]
  },
  {
   "cell_type": "code",
   "execution_count": null,
   "id": "91b39cb2",
   "metadata": {},
   "outputs": [],
   "source": [
    "betahat(valeus, 1)"
   ]
  },
  {
   "cell_type": "code",
   "execution_count": null,
   "id": "cf0f7f46",
   "metadata": {},
   "outputs": [],
   "source": [
    "betahat(valeus[valeus > 10], 10)"
   ]
  },
  {
   "cell_type": "markdown",
   "id": "ffe442ed",
   "metadata": {},
   "source": [
    "# Looking at SOC data"
   ]
  },
  {
   "cell_type": "code",
   "execution_count": null,
   "id": "4bce5350",
   "metadata": {},
   "outputs": [],
   "source": [
    "df = read.csv(\"soc-avalanche.csv\")"
   ]
  },
  {
   "cell_type": "code",
   "execution_count": null,
   "id": "a66b93cc",
   "metadata": {},
   "outputs": [],
   "source": [
    "nrow(df)"
   ]
  },
  {
   "cell_type": "code",
   "execution_count": null,
   "id": "1380e0ae",
   "metadata": {},
   "outputs": [],
   "source": [
    "ggplot(df, aes(size)) + geom_histogram()"
   ]
  },
  {
   "cell_type": "code",
   "execution_count": null,
   "id": "6421709c",
   "metadata": {},
   "outputs": [],
   "source": [
    "ggplot(df, aes(size)) + geom_histogram() + scale_x_log10() + scale_y_log10()"
   ]
  },
  {
   "cell_type": "code",
   "execution_count": null,
   "id": "ae9c9add",
   "metadata": {},
   "outputs": [],
   "source": [
    "bins = seq(log(1), log(10000), length.out=100)"
   ]
  },
  {
   "cell_type": "code",
   "execution_count": null,
   "id": "56b773d2",
   "metadata": {},
   "outputs": [],
   "source": [
    "count = c()\n",
    "for (ii in 2:length(bins)) {\n",
    "    count = c(count, sum(log(df$size) >= bins[ii-1] & log(df$size) < bins[ii]))\n",
    "}"
   ]
  },
  {
   "cell_type": "code",
   "execution_count": null,
   "id": "248813d3",
   "metadata": {},
   "outputs": [],
   "source": [
    "plot(bins[-1], count, log='y')"
   ]
  },
  {
   "cell_type": "code",
   "execution_count": null,
   "id": "56ae2140",
   "metadata": {},
   "outputs": [],
   "source": [
    "logct = log(count)\n",
    "logct[!is.finite(logct)] = NA\n",
    "midbn = (bins[-1] + bins[-length(bins)]) / 2"
   ]
  },
  {
   "cell_type": "code",
   "execution_count": null,
   "id": "87e69663",
   "metadata": {},
   "outputs": [],
   "source": [
    "summary(lm(logct ~ midbn))"
   ]
  },
  {
   "cell_type": "code",
   "execution_count": null,
   "id": "444aaad9",
   "metadata": {
    "scrolled": true
   },
   "outputs": [],
   "source": [
    "ggplot(data.frame(logct, midbn), aes(midbn, logct)) + geom_point() + geom_smooth(method='lm')"
   ]
  },
  {
   "cell_type": "code",
   "execution_count": null,
   "id": "bdc85881",
   "metadata": {
    "scrolled": true
   },
   "outputs": [],
   "source": [
    "exp(2.5)"
   ]
  },
  {
   "cell_type": "code",
   "execution_count": null,
   "id": "e6a0dadb",
   "metadata": {},
   "outputs": [],
   "source": [
    "exp(8)"
   ]
  },
  {
   "cell_type": "code",
   "execution_count": null,
   "id": "5fafc9cb",
   "metadata": {},
   "outputs": [],
   "source": [
    "betahat(df$size, 1)"
   ]
  },
  {
   "cell_type": "code",
   "execution_count": null,
   "id": "074e607c",
   "metadata": {},
   "outputs": [],
   "source": [
    "betahat(df$size[df$size < exp(2.5)], 1)"
   ]
  },
  {
   "cell_type": "code",
   "execution_count": null,
   "id": "db4e1795",
   "metadata": {
    "scrolled": false
   },
   "outputs": [],
   "source": [
    "betahat(df$size[df$size > exp(2.5) & df$size < exp(8)], exp(2.5))"
   ]
  }
 ],
 "metadata": {
  "kernelspec": {
   "display_name": "R",
   "language": "R",
   "name": "ir"
  },
  "language_info": {
   "codemirror_mode": "r",
   "file_extension": ".r",
   "mimetype": "text/x-r-source",
   "name": "R",
   "pygments_lexer": "r",
   "version": "4.1.1"
  }
 },
 "nbformat": 4,
 "nbformat_minor": 5
}
