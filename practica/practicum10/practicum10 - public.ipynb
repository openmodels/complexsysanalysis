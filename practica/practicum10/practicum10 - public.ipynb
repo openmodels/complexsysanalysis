{
 "cells": [
  {
   "cell_type": "markdown",
   "id": "51fd4cc0",
   "metadata": {},
   "source": [
    "# Data\n",
    "\n",
    "From the Angoulême in 1764 project:\n",
    "https://histecon.fas.harvard.edu/visualizing/angouleme/overview.html"
   ]
  },
  {
   "cell_type": "code",
   "execution_count": null,
   "id": "22c87470",
   "metadata": {},
   "outputs": [],
   "source": [
    "df = read.csv(\"EDGESpublic6.11.20.csv\")"
   ]
  },
  {
   "cell_type": "code",
   "execution_count": null,
   "id": "24118165",
   "metadata": {},
   "outputs": [],
   "source": [
    "head(df)"
   ]
  },
  {
   "cell_type": "markdown",
   "id": "239b7a59",
   "metadata": {},
   "source": [
    "## Step 1: Turn this into all unweighted, directed edges."
   ]
  },
  {
   "cell_type": "code",
   "execution_count": null,
   "id": "80a7a9de",
   "metadata": {},
   "outputs": [],
   "source": [
    "edgelist = rbind(data.frame(source=df$Source, target=df$Target),\n",
    "                 data.frame(source=df$Target[df$Type == 'Undirected'], target=df$Source[df$Type == 'Undirected']))"
   ]
  },
  {
   "cell_type": "markdown",
   "id": "d35402f5",
   "metadata": {},
   "source": [
    "1. Number of edges?"
   ]
  },
  {
   "cell_type": "markdown",
   "id": "6950648d",
   "metadata": {},
   "source": [
    "2. Number of nodes?"
   ]
  },
  {
   "cell_type": "markdown",
   "id": "67e34b13",
   "metadata": {},
   "source": [
    "Let's also grab the node data."
   ]
  },
  {
   "cell_type": "code",
   "execution_count": null,
   "id": "f7e20f8e",
   "metadata": {},
   "outputs": [],
   "source": [
    "nodes = read.csv(\"NODESpublic6.11.20.csv\")"
   ]
  },
  {
   "cell_type": "code",
   "execution_count": null,
   "id": "e78f8cae",
   "metadata": {
    "scrolled": true
   },
   "outputs": [],
   "source": [
    "head(nodes)"
   ]
  },
  {
   "cell_type": "code",
   "execution_count": null,
   "id": "7240c0d6",
   "metadata": {
    "scrolled": true
   },
   "outputs": [],
   "source": [
    "nrow(nodes)"
   ]
  },
  {
   "cell_type": "code",
   "execution_count": null,
   "id": "6291dbf4",
   "metadata": {},
   "outputs": [],
   "source": [
    "max(nodes$ID)"
   ]
  },
  {
   "cell_type": "markdown",
   "id": "1ff83bdd",
   "metadata": {},
   "source": [
    "## 1. Degree distribution"
   ]
  },
  {
   "cell_type": "code",
   "execution_count": null,
   "id": "325be53d",
   "metadata": {},
   "outputs": [],
   "source": [
    "degrees = c()\n",
    "for (source in nodes$ID) {\n",
    "    degrees=c(degrees, sum(edgelist$source == source))\n",
    "}"
   ]
  },
  {
   "cell_type": "code",
   "execution_count": null,
   "id": "f8a81f8f",
   "metadata": {},
   "outputs": [],
   "source": [
    "library(ggplot2)"
   ]
  },
  {
   "cell_type": "code",
   "execution_count": null,
   "id": "822ebcb4",
   "metadata": {
    "scrolled": false
   },
   "outputs": [],
   "source": [
    "ggplot(data.frame(degrees), aes(degrees)) + geom_histogram()"
   ]
  },
  {
   "cell_type": "code",
   "execution_count": null,
   "id": "2d7470ef",
   "metadata": {},
   "outputs": [],
   "source": [
    "max(degrees)"
   ]
  },
  {
   "cell_type": "code",
   "execution_count": null,
   "id": "9b097d22",
   "metadata": {
    "scrolled": true
   },
   "outputs": [],
   "source": [
    "nodes[which.max(degrees),]"
   ]
  },
  {
   "cell_type": "code",
   "execution_count": null,
   "id": "89e5678d",
   "metadata": {},
   "outputs": [],
   "source": [
    "df[df$Source == 3476,]"
   ]
  },
  {
   "cell_type": "markdown",
   "id": "1f5daccc",
   "metadata": {},
   "source": [
    "## 2. Shortest paths"
   ]
  },
  {
   "cell_type": "code",
   "execution_count": null,
   "id": "8d3b4771",
   "metadata": {},
   "outputs": [],
   "source": [
    "all_shortest_paths <- function(start, iters=Inf) {\n",
    "    dists = rep(Inf, max(nodes$ID))\n",
    "    dists[start] = 0\n",
    "    queue = c(start)\n",
    "    \n",
    "    while (length(queue) > 0 && iters > 0) {\n",
    "        ## Dequeue first item\n",
    "        node = queue[1]\n",
    "        queue = queue[-1]\n",
    "        mydist = dists[node]\n",
    "        \n",
    "        ## Consider each neighbor\n",
    "        for (ii in which(edgelist$source == node)) {\n",
    "            if (dists[edgelist$target[ii]] > mydist + 1) {\n",
    "                dists[edgelist$target[ii]] = mydist + 1\n",
    "                queue = c(queue, edgelist$target[ii])\n",
    "            }\n",
    "        }\n",
    "        \n",
    "        iters = iters - 1\n",
    "    }\n",
    "    \n",
    "    dists\n",
    "}"
   ]
  },
  {
   "cell_type": "code",
   "execution_count": null,
   "id": "0878980b",
   "metadata": {},
   "outputs": [],
   "source": [
    "dists = all_shortest_paths(edgelist$source[1])"
   ]
  },
  {
   "cell_type": "code",
   "execution_count": null,
   "id": "2bb77acb",
   "metadata": {},
   "outputs": [],
   "source": [
    "dists[dists != Inf]"
   ]
  },
  {
   "cell_type": "code",
   "execution_count": null,
   "id": "23386967",
   "metadata": {},
   "outputs": [],
   "source": [
    "meandists = c()\n",
    "for (start in edgelist$source) {\n",
    "    dists = all_shortest_paths(start)\n",
    "    meandists = c(meandists, mean(dists[dists != 0 & dists != Inf]))\n",
    "}"
   ]
  },
  {
   "cell_type": "code",
   "execution_count": null,
   "id": "7fa93197",
   "metadata": {},
   "outputs": [],
   "source": [
    "meandists"
   ]
  },
  {
   "cell_type": "code",
   "execution_count": null,
   "id": "153e04e6",
   "metadata": {
    "scrolled": true
   },
   "outputs": [],
   "source": [
    "mean(meandists)"
   ]
  },
  {
   "cell_type": "markdown",
   "id": "cb97a568",
   "metadata": {},
   "source": [
    "3. Clustering coefficient"
   ]
  },
  {
   "cell_type": "code",
   "execution_count": null,
   "id": "cd5321fa",
   "metadata": {},
   "outputs": [],
   "source": [
    "calc_clustering = function(node) {\n",
    "    neighbors = edgelist$target[edgelist$source == node] # j in A_ij\n",
    "    triangles = 0\n",
    "    for (node2 in neighbors) {\n",
    "        neighbors2 = edgelist$target[edgelist$source == node2] # k in A_jk\n",
    "        for (node3 in neighbors2) {\n",
    "            if (node %in% edgelist$target[edgelist$source == node3]) \n",
    "                triangles = triangles + 1\n",
    "        }\n",
    "    }\n",
    "    triangles / (length(neighbors) * (length(neighbors) - 1))\n",
    "}"
   ]
  },
  {
   "cell_type": "code",
   "execution_count": null,
   "id": "aa6892a4",
   "metadata": {},
   "outputs": [],
   "source": [
    "calc_clustering(edgelist$source[1])"
   ]
  },
  {
   "cell_type": "code",
   "execution_count": null,
   "id": "2fa1739b",
   "metadata": {},
   "outputs": [],
   "source": [
    "clustering = c()\n",
    "for (node in edgelist$source) {\n",
    "    cc = calc_clustering(node)\n",
    "    clustering = c(clustering, cc)\n",
    "}"
   ]
  },
  {
   "cell_type": "code",
   "execution_count": null,
   "id": "08b77f13",
   "metadata": {},
   "outputs": [],
   "source": [
    "clustering"
   ]
  },
  {
   "cell_type": "code",
   "execution_count": null,
   "id": "7465c920",
   "metadata": {
    "scrolled": true
   },
   "outputs": [],
   "source": [
    "mean(clustering[is.finite(clustering)])"
   ]
  },
  {
   "cell_type": "markdown",
   "id": "57078321",
   "metadata": {},
   "source": [
    "## 3. Doing the work with igraph"
   ]
  },
  {
   "cell_type": "code",
   "execution_count": null,
   "id": "d60c2e4c",
   "metadata": {},
   "outputs": [],
   "source": [
    "install.packages(\"igraph\")"
   ]
  },
  {
   "cell_type": "code",
   "execution_count": null,
   "id": "1f538312",
   "metadata": {},
   "outputs": [],
   "source": [
    "library(igraph)"
   ]
  },
  {
   "cell_type": "code",
   "execution_count": null,
   "id": "b3d818d3",
   "metadata": {},
   "outputs": [],
   "source": [
    "net = graph_from_edgelist(as.matrix(edgelist), directed=T)"
   ]
  },
  {
   "cell_type": "code",
   "execution_count": null,
   "id": "e6d33dfd",
   "metadata": {
    "scrolled": true
   },
   "outputs": [],
   "source": [
    "net"
   ]
  },
  {
   "cell_type": "code",
   "execution_count": null,
   "id": "b1a99229",
   "metadata": {},
   "outputs": [],
   "source": [
    "mean_distance(net)"
   ]
  },
  {
   "cell_type": "code",
   "execution_count": null,
   "id": "4ecf0146",
   "metadata": {
    "scrolled": true
   },
   "outputs": [],
   "source": [
    "distances(net, mode=\"out\")"
   ]
  },
  {
   "cell_type": "code",
   "execution_count": null,
   "id": "6b8250af",
   "metadata": {},
   "outputs": [],
   "source": [
    "alldists = distances(net, mode=\"out\")"
   ]
  },
  {
   "cell_type": "code",
   "execution_count": null,
   "id": "5aeee3e4",
   "metadata": {},
   "outputs": [],
   "source": [
    "dists = alldists[edgelist$source[1],]"
   ]
  },
  {
   "cell_type": "code",
   "execution_count": null,
   "id": "0b6408f8",
   "metadata": {},
   "outputs": [],
   "source": [
    "dists[dists != Inf]"
   ]
  },
  {
   "cell_type": "code",
   "execution_count": null,
   "id": "5caff7e4",
   "metadata": {},
   "outputs": [],
   "source": [
    "mean(dists[dists != 0 & dists != Inf])"
   ]
  },
  {
   "cell_type": "code",
   "execution_count": null,
   "id": "c1bc6190",
   "metadata": {},
   "outputs": [],
   "source": [
    "meandists = apply(alldists, 1, function(dists) mean(dists[dists != 0 & dists != Inf]))"
   ]
  },
  {
   "cell_type": "code",
   "execution_count": null,
   "id": "41c98987",
   "metadata": {},
   "outputs": [],
   "source": [
    "meandists[edgelist$source[1]]"
   ]
  },
  {
   "cell_type": "code",
   "execution_count": null,
   "id": "9a336adb",
   "metadata": {},
   "outputs": [],
   "source": [
    "mean(meandists, na.rm=T)"
   ]
  },
  {
   "cell_type": "code",
   "execution_count": null,
   "id": "a85ded05",
   "metadata": {
    "scrolled": true
   },
   "outputs": [],
   "source": [
    "transitivity(net)"
   ]
  },
  {
   "cell_type": "code",
   "execution_count": null,
   "id": "8d618f69",
   "metadata": {},
   "outputs": [],
   "source": [
    "eigen_centrality(net)"
   ]
  },
  {
   "cell_type": "code",
   "execution_count": null,
   "id": "83bd7d8e",
   "metadata": {
    "scrolled": true
   },
   "outputs": [],
   "source": [
    "length(eigen_centrality(net)$vector)"
   ]
  },
  {
   "cell_type": "code",
   "execution_count": null,
   "id": "b1c127d4",
   "metadata": {
    "scrolled": false
   },
   "outputs": [],
   "source": [
    "which.max(eigen_centrality(net)$vector)"
   ]
  },
  {
   "cell_type": "code",
   "execution_count": null,
   "id": "e4f6f138",
   "metadata": {
    "scrolled": true
   },
   "outputs": [],
   "source": [
    "nodes[nodes$ID == 3476,]"
   ]
  },
  {
   "cell_type": "code",
   "execution_count": null,
   "id": "7a9bffd1",
   "metadata": {
    "scrolled": true
   },
   "outputs": [],
   "source": [
    "betweenness(net)"
   ]
  },
  {
   "cell_type": "code",
   "execution_count": null,
   "id": "848ca84b",
   "metadata": {},
   "outputs": [],
   "source": [
    "which.max(betweenness(net))"
   ]
  },
  {
   "cell_type": "code",
   "execution_count": null,
   "id": "2153f3dc",
   "metadata": {},
   "outputs": [],
   "source": [
    "nodes[nodes$ID == 941,]"
   ]
  },
  {
   "cell_type": "code",
   "execution_count": null,
   "id": "0b29ca51",
   "metadata": {},
   "outputs": [],
   "source": [
    "df[df$Source == 941 | df$Target == 941,]"
   ]
  },
  {
   "cell_type": "markdown",
   "id": "313eb9b4",
   "metadata": {},
   "source": [
    "## 4. Infect someone"
   ]
  },
  {
   "cell_type": "code",
   "execution_count": null,
   "id": "e4d7f46b",
   "metadata": {},
   "outputs": [],
   "source": [
    "infected = rep(F, max(nodes$ID))"
   ]
  },
  {
   "cell_type": "code",
   "execution_count": null,
   "id": "00c4f697",
   "metadata": {},
   "outputs": [],
   "source": [
    "infected[941] = T"
   ]
  },
  {
   "cell_type": "code",
   "execution_count": null,
   "id": "4ef12deb",
   "metadata": {},
   "outputs": [],
   "source": [
    "epidemic = data.frame(time=0:1, infections=0:1)\n",
    "while (epidemic$infections[nrow(epidemic)] != epidemic$infections[nrow(epidemic)-1]) {\n",
    "    infected[edgelist$target[edgelist$source %in% which(infected)]] = T\n",
    "    epidemic = rbind(epidemic, data.frame(time=epidemic$time[nrow(epidemic)]+1, infections=sum(infected)))\n",
    "}"
   ]
  },
  {
   "cell_type": "code",
   "execution_count": null,
   "id": "2cd1d2b9",
   "metadata": {},
   "outputs": [],
   "source": [
    "ggplot(epidemic, aes(time, infections)) + geom_line()"
   ]
  },
  {
   "cell_type": "code",
   "execution_count": null,
   "id": "a50fe2e2",
   "metadata": {},
   "outputs": [],
   "source": [
    "results = data.frame()\n",
    "for (start in 1:max(nodes$ID)) {\n",
    "    infected = rep(F, max(nodes$ID))\n",
    "    infected[start] = T\n",
    "    infections = 0\n",
    "    while (sum(infected) > infections) {\n",
    "        infections = sum(infected)\n",
    "        infected[edgelist$target[edgelist$source %in% which(infected)]] = T\n",
    "    }\n",
    "    results = rbind(results, data.frame(start, infections))\n",
    "}"
   ]
  },
  {
   "cell_type": "code",
   "execution_count": null,
   "id": "8b1a14fd",
   "metadata": {},
   "outputs": [],
   "source": [
    "head(results)"
   ]
  },
  {
   "cell_type": "code",
   "execution_count": null,
   "id": "081eed3b",
   "metadata": {},
   "outputs": [],
   "source": [
    "max(results$infections)"
   ]
  },
  {
   "cell_type": "code",
   "execution_count": null,
   "id": "a957964c",
   "metadata": {},
   "outputs": [],
   "source": [
    "which.max(results$infections)"
   ]
  }
 ],
 "metadata": {
  "kernelspec": {
   "display_name": "R",
   "language": "R",
   "name": "ir"
  },
  "language_info": {
   "codemirror_mode": "r",
   "file_extension": ".r",
   "mimetype": "text/x-r-source",
   "name": "R",
   "pygments_lexer": "r",
   "version": "4.1.1"
  }
 },
 "nbformat": 4,
 "nbformat_minor": 5
}
