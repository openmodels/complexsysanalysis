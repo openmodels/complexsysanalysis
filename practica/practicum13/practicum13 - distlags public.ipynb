{
 "cells": [
  {
   "cell_type": "markdown",
   "id": "4c0939c0",
   "metadata": {},
   "source": [
    "## 1. The Example Data-Generating Process\n",
    "\n",
    "Logistic map with a binary generating partition\n",
    "\n",
    "The logistic map is\n",
    "$$x_{i+1} = r x_i (1 - x_i)$$\n",
    "\n",
    "And we will report 0 or 1 from the map, according to\n",
    "$$d_i = \\begin{cases} 0 & \\text{if $x_i < .5$} \\\\ 1 & \\text{else} \\end{cases}$$"
   ]
  },
  {
   "cell_type": "code",
   "execution_count": null,
   "id": "6c0ee2da",
   "metadata": {},
   "outputs": [],
   "source": [
    "binlogmap = function(rr, NN=1000, init=pi / 4) {\n",
    "    xx = init\n",
    "    dd = rep(0, NN)\n",
    "    for (ii in 1:NN) {\n",
    "        xx = rr * xx * (1 - xx)\n",
    "        dd[ii] = xx >= .5\n",
    "    }\n",
    "    dd\n",
    "}"
   ]
  },
  {
   "cell_type": "code",
   "execution_count": null,
   "id": "75f40d97",
   "metadata": {},
   "outputs": [],
   "source": [
    "xx = binlogmap(3.5)"
   ]
  },
  {
   "cell_type": "code",
   "execution_count": null,
   "id": "dca310d1",
   "metadata": {},
   "outputs": [],
   "source": [
    "plot(xx, type='l', xlim=c(1, 100))"
   ]
  },
  {
   "cell_type": "markdown",
   "id": "01c213ae",
   "metadata": {},
   "source": [
    "## 2. Approach 1: Distributed lags model or VAR\n",
    "\n",
    "$$x_i = \\alpha + \\sum_{l=1}^k \\beta_l x_{i-l} + \\epsilon_i$$"
   ]
  },
  {
   "cell_type": "code",
   "execution_count": null,
   "id": "81fbda5f",
   "metadata": {},
   "outputs": [],
   "source": [
    "df = data.frame(xx=binlogmap(3.5))"
   ]
  },
  {
   "cell_type": "code",
   "execution_count": null,
   "id": "d64d99fc",
   "metadata": {},
   "outputs": [],
   "source": [
    "library(dplyr)"
   ]
  },
  {
   "cell_type": "code",
   "execution_count": null,
   "id": "6c2aa0a6",
   "metadata": {
    "scrolled": true
   },
   "outputs": [],
   "source": [
    "mod0 = lm(xx ~ 1, data=df)"
   ]
  },
  {
   "cell_type": "code",
   "execution_count": null,
   "id": "07d1ef36",
   "metadata": {
    "scrolled": true
   },
   "outputs": [],
   "source": [
    "summary(mod0)"
   ]
  },
  {
   "cell_type": "code",
   "execution_count": null,
   "id": "d589799f",
   "metadata": {},
   "outputs": [],
   "source": [
    "mod1 = lm(xx ~ lag(xx), data=df)"
   ]
  },
  {
   "cell_type": "code",
   "execution_count": null,
   "id": "78ad105e",
   "metadata": {},
   "outputs": [],
   "source": [
    "summary(mod1)"
   ]
  },
  {
   "cell_type": "code",
   "execution_count": null,
   "id": "1867521c",
   "metadata": {},
   "outputs": [],
   "source": [
    "mod2 = lm(xx ~ lag(xx) + lag(xx, 2), data=df)"
   ]
  },
  {
   "cell_type": "code",
   "execution_count": null,
   "id": "3763cc76",
   "metadata": {},
   "outputs": [],
   "source": [
    "summary(mod2)"
   ]
  },
  {
   "cell_type": "code",
   "execution_count": null,
   "id": "435f9e05",
   "metadata": {},
   "outputs": [],
   "source": [
    "mod3 = lm(xx ~ lag(xx) + lag(xx, 2) + lag(xx, 3), data=df)"
   ]
  },
  {
   "cell_type": "code",
   "execution_count": null,
   "id": "062a1b69",
   "metadata": {
    "scrolled": true
   },
   "outputs": [],
   "source": [
    "summary(mod3)"
   ]
  },
  {
   "cell_type": "code",
   "execution_count": null,
   "id": "d843dddc",
   "metadata": {},
   "outputs": [],
   "source": [
    "rmse0 = sqrt(mean(mod0$resid^2))\n",
    "rmse1 = sqrt(mean(mod1$resid^2))\n",
    "rmse2 = sqrt(mean(mod2$resid^2))\n",
    "rmse3 = sqrt(mean(mod3$resid^2))"
   ]
  },
  {
   "cell_type": "code",
   "execution_count": null,
   "id": "ce9fc536",
   "metadata": {},
   "outputs": [],
   "source": [
    "plot(c(rmse0, rmse1, rmse2, rmse3))"
   ]
  },
  {
   "cell_type": "code",
   "execution_count": null,
   "id": "5ca3e90f",
   "metadata": {},
   "outputs": [],
   "source": [
    "allrmse = c()\n",
    "for (kk in 0:30) {\n",
    "    if (kk == 0) {\n",
    "        text = \"xx ~ 1\"\n",
    "    } else {\n",
    "        text = paste(\"xx ~ 1 + \", paste(paste0(\"lag(xx, \", 1:kk, \")\"), collapse=\" + \"))\n",
    "    }\n",
    "    \n",
    "    mod = lm(as.formula(text), data=df)\n",
    "    rmse = sqrt(mean(mod$resid^2))\n",
    "    allrmse = c(allrmse, rmse)\n",
    "}"
   ]
  },
  {
   "cell_type": "code",
   "execution_count": null,
   "id": "68711d2c",
   "metadata": {},
   "outputs": [],
   "source": [
    "plot(allrmse)"
   ]
  },
  {
   "cell_type": "markdown",
   "id": "19efc7ae",
   "metadata": {},
   "source": [
    "## 3. Cross-validation for model selection\n",
    "\n",
    "Calibrate the model to one set of data, then evaluate its performance on another set.\n",
    "\n",
    "This addresses over-fitting."
   ]
  },
  {
   "cell_type": "code",
   "execution_count": null,
   "id": "3618afc3",
   "metadata": {},
   "outputs": [],
   "source": [
    "df.test = data.frame(xx=binlogmap(3.5, init=exp(1) / 3))"
   ]
  },
  {
   "cell_type": "code",
   "execution_count": null,
   "id": "29a402f4",
   "metadata": {},
   "outputs": [],
   "source": [
    "xxpred = predict(mod, df.test)"
   ]
  },
  {
   "cell_type": "code",
   "execution_count": null,
   "id": "c77481b3",
   "metadata": {},
   "outputs": [],
   "source": [
    "xxpred"
   ]
  },
  {
   "cell_type": "code",
   "execution_count": null,
   "id": "8e7ab538",
   "metadata": {},
   "outputs": [],
   "source": [
    "allrmse.test = c()\n",
    "for (kk in 0:30) {\n",
    "    if (kk == 0) {\n",
    "        text = \"xx ~ 1\"\n",
    "    } else {\n",
    "        text = paste(\"xx ~ 1 + \", paste(paste0(\"lag(xx, \", 1:kk, \")\"), collapse=\" + \"))\n",
    "    }\n",
    "    \n",
    "    mod = lm(as.formula(text), data=df)\n",
    "    xxpred = predict(mod, df.test)\n",
    "    resids = xxpred - df.test$xx\n",
    "    rmse = sqrt(mean(resids^2, na.rm=T))\n",
    "    allrmse.test = c(allrmse.test, rmse)\n",
    "}"
   ]
  },
  {
   "cell_type": "code",
   "execution_count": null,
   "id": "01edfe65",
   "metadata": {},
   "outputs": [],
   "source": [
    "plot(allrmse, col=1)\n",
    "points(allrmse.test, col=2)"
   ]
  },
  {
   "cell_type": "code",
   "execution_count": null,
   "id": "bf38a017",
   "metadata": {},
   "outputs": [],
   "source": [
    "which.min(allrmse.test)"
   ]
  },
  {
   "cell_type": "markdown",
   "id": "a1ee5164",
   "metadata": {},
   "source": [
    "## 4. Let's see how this comparison evolves over values of $r$"
   ]
  },
  {
   "cell_type": "code",
   "execution_count": null,
   "id": "d0ebd0df",
   "metadata": {},
   "outputs": [],
   "source": [
    "find.best.kk <- function(fit.predict) {\n",
    "    allrmse.test = c()\n",
    "    for (kk in 0:30) {\n",
    "        xxpred = fit.predict(kk)\n",
    "        resids = xxpred - df.test$xx\n",
    "        rmse = sqrt(mean(resids^2, na.rm=T))\n",
    "        allrmse.test = c(allrmse.test, rmse)\n",
    "    }\n",
    "    \n",
    "    which.min(allrmse.test)\n",
    "}"
   ]
  },
  {
   "cell_type": "code",
   "execution_count": null,
   "id": "888101a4",
   "metadata": {},
   "outputs": [],
   "source": [
    "lm.fp = function(kk) {\n",
    "    if (kk == 0) {\n",
    "        text = \"xx ~ 1\"\n",
    "    } else {\n",
    "        text = paste(\"xx ~ 1 + \", paste(paste0(\"lag(xx, \", 1:kk, \")\"), collapse=\" + \"))\n",
    "    }\n",
    "    \n",
    "    mod = lm(as.formula(text), data=df)\n",
    "    suppressWarnings(predict(mod, df.test))\n",
    "}"
   ]
  },
  {
   "cell_type": "code",
   "execution_count": null,
   "id": "5172fe12",
   "metadata": {},
   "outputs": [],
   "source": [
    "find.best.kk(lm.fp)"
   ]
  },
  {
   "cell_type": "code",
   "execution_count": null,
   "id": "d74be32d",
   "metadata": {},
   "outputs": [],
   "source": [
    "results = data.frame()\n",
    "for (rr in seq(2, 4, length.out=100)) {\n",
    "    print(rr)\n",
    "    df = data.frame(xx=binlogmap(rr))\n",
    "    df.test = data.frame(xx=binlogmap(rr, init=exp(1) / 3))\n",
    "    opt.kk = find.best.kk(lm.fp)\n",
    "    results = rbind(results, data.frame(rr, final.xx=df$xx[nrow(df)], opt.kk))\n",
    "}"
   ]
  },
  {
   "cell_type": "code",
   "execution_count": null,
   "id": "190ab44e",
   "metadata": {},
   "outputs": [],
   "source": [
    "plot(results$rr, results$opt.kk)"
   ]
  },
  {
   "attachments": {
    "image.png": {
     "image/png": "[encoded data removed]"
    }
   },
   "cell_type": "markdown",
   "id": "b30049a4",
   "metadata": {},
   "source": [
    "Compare this to the bifurcation diagram:\n",
    "![image.png](attachment:image.png)"
   ]
  },
  {
   "cell_type": "markdown",
   "id": "a2545161",
   "metadata": {},
   "source": [
    "## 4. Optimal HMMs state choice"
   ]
  },
  {
   "cell_type": "code",
   "execution_count": null,
   "id": "31b9d701",
   "metadata": {},
   "outputs": [],
   "source": [
    "library(depmixS4)"
   ]
  },
  {
   "cell_type": "code",
   "execution_count": null,
   "id": "4ede9e20",
   "metadata": {},
   "outputs": [],
   "source": [
    "mod <- depmix(response=xx ~ 1, data=df, nstates=1)"
   ]
  },
  {
   "cell_type": "code",
   "execution_count": null,
   "id": "7763faf1",
   "metadata": {},
   "outputs": [],
   "source": [
    "hmm <- fit(mod)"
   ]
  },
  {
   "cell_type": "code",
   "execution_count": null,
   "id": "2869e3f4",
   "metadata": {},
   "outputs": [],
   "source": [
    "summary(hmm)"
   ]
  },
  {
   "cell_type": "code",
   "execution_count": null,
   "id": "f8ee7cda",
   "metadata": {},
   "outputs": [],
   "source": [
    "mod <- depmix(response=xx ~ 1, data=df, nstates=2)"
   ]
  },
  {
   "cell_type": "code",
   "execution_count": null,
   "id": "5b39dda7",
   "metadata": {},
   "outputs": [],
   "source": [
    "hmm <- fit(mod)"
   ]
  }
 ],
 "metadata": {
  "kernelspec": {
   "display_name": "R",
   "language": "R",
   "name": "ir"
  },
  "language_info": {
   "codemirror_mode": "r",
   "file_extension": ".r",
   "mimetype": "text/x-r-source",
   "name": "R",
   "pygments_lexer": "r",
   "version": "4.1.1"
  }
 },
 "nbformat": 4,
 "nbformat_minor": 5
}
