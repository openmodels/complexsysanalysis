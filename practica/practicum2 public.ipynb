{
 "cells": [
  {
   "cell_type": "markdown",
   "metadata": {},
   "source": [
    "# Start with a system game!"
   ]
  },
  {
   "cell_type": "markdown",
   "metadata": {},
   "source": [
    "Go to http://existencia.org/intuition/thermo.html.\n",
    "\n",
    "Don't click the \"show graph\" button until at least 30 minutes in."
   ]
  },
  {
   "cell_type": "markdown",
   "metadata": {},
   "source": [
    "# Basic feedback\n",
    "\n",
    "Reproduce Roe & Baker (2017)"
   ]
  },
  {
   "cell_type": "code",
   "execution_count": null,
   "metadata": {
    "collapsed": true
   },
   "outputs": [],
   "source": [
    "feedback = VALUE\n",
    "final.deltaTs = 1.2\n",
    "additional.deltaT = 1.2\n",
    "for (tt in 2:100) {\n",
    "    additional.deltaT = additional.deltaT * feedback\n",
    "    final.deltaTs[tt] = additional.deltaT\n",
    "}"
   ]
  },
  {
   "cell_type": "code",
   "execution_count": null,
   "metadata": {},
   "outputs": [],
   "source": [
    "plot(final.deltaTs)"
   ]
  },
  {
   "cell_type": "code",
   "execution_count": null,
   "metadata": {},
   "outputs": [],
   "source": [
    "plot(cumsum(final.deltaTs))"
   ]
  },
  {
   "cell_type": "code",
   "execution_count": null,
   "metadata": {},
   "outputs": [],
   "source": [
    "1.2 / (1 - VALUE)"
   ]
  },
  {
   "cell_type": "markdown",
   "metadata": {},
   "source": [
    "# Constructing some simple data"
   ]
  },
  {
   "cell_type": "code",
   "execution_count": null,
   "metadata": {
    "collapsed": true
   },
   "outputs": [],
   "source": [
    "tt = seq(0, 10, by=.1)"
   ]
  },
  {
   "cell_type": "code",
   "execution_count": null,
   "metadata": {
    "scrolled": true
   },
   "outputs": [],
   "source": [
    "tt"
   ]
  },
  {
   "cell_type": "code",
   "execution_count": null,
   "metadata": {
    "collapsed": true
   },
   "outputs": [],
   "source": [
    "yy = AMPLITUDE * cos(FREQUENCY * (tt - PHASESHIFT)) + OFFSET"
   ]
  },
  {
   "cell_type": "code",
   "execution_count": null,
   "metadata": {},
   "outputs": [],
   "source": [
    "plot(tt, yy)"
   ]
  },
  {
   "cell_type": "markdown",
   "metadata": {},
   "source": [
    "## Connecting parameter fit with optimization\n",
    "\n",
    "We can see that our data is a sinusoid, so it has the form $A cos(f (t - d)) + B$. But what are the values of $A$, $f$, $d$ and $B$? To find the answer we need three things:\n",
    "\n",
    "1. Our model: $A cos(f (t - d)) + B$\n",
    "2. Our data: `yy` vs. `tt` above.\n",
    "3. A \"loss function\": something that gets minimized when the parameters are correct.\n",
    "\n",
    "R has a couple of easy-to-use functions that can fit be used to fit parameters in an arbitrary model: `optimize` and `optim`. `optimize` just optimizes 1 parameter, while `optim` handles any number."
   ]
  },
  {
   "cell_type": "markdown",
   "metadata": {},
   "source": [
    "## Case 1: A single value\n",
    "\n",
    "Let's just try to determine the mean of the data. What should the loss function look like?"
   ]
  },
  {
   "cell_type": "code",
   "execution_count": null,
   "metadata": {
    "collapsed": true
   },
   "outputs": [],
   "source": [
    "lossfunc = function(BB) {\n",
    "    ???\n",
    "}"
   ]
  },
  {
   "cell_type": "code",
   "execution_count": null,
   "metadata": {
    "scrolled": true
   },
   "outputs": [],
   "source": [
    "optimize(lossfunc, c(MIN, MAX))"
   ]
  },
  {
   "cell_type": "code",
   "execution_count": null,
   "metadata": {},
   "outputs": [],
   "source": [
    "mean(yy)"
   ]
  },
  {
   "cell_type": "markdown",
   "metadata": {},
   "source": [
    "## Case 2: all four variables"
   ]
  },
  {
   "cell_type": "code",
   "execution_count": null,
   "metadata": {
    "collapsed": true
   },
   "outputs": [],
   "source": [
    "model = function(AA, ff, dd, BB) {\n",
    "    AA * cos(ff * (tt - dd)) + BB\n",
    "}"
   ]
  },
  {
   "cell_type": "code",
   "execution_count": null,
   "metadata": {
    "collapsed": true
   },
   "outputs": [],
   "source": [
    "lossfunc = function(par) {\n",
    "    ???\n",
    "}"
   ]
  },
  {
   "cell_type": "code",
   "execution_count": null,
   "metadata": {
    "scrolled": true
   },
   "outputs": [],
   "source": [
    "optim(c(1, 1, 0, 0), lossfunc)"
   ]
  },
  {
   "cell_type": "code",
   "execution_count": null,
   "metadata": {
    "scrolled": true
   },
   "outputs": [],
   "source": [
    "par = optim(c(1, 1, 0, 0), lossfunc)$par\n",
    "\n",
    "plot(tt, yy, col=1)\n",
    "points(tt, model(par[1], par[2], par[3], par[4]), col=2, pch=16)"
   ]
  },
  {
   "cell_type": "markdown",
   "metadata": {},
   "source": [
    "Let's help it out!"
   ]
  },
  {
   "cell_type": "code",
   "execution_count": null,
   "metadata": {},
   "outputs": [],
   "source": [
    "par = optim(c(AMPLITUDE, FREQUENCY, PHASESHIFT, OFFSET), lossfunc)$par\n",
    "\n",
    "plot(tt, yy, col=1)\n",
    "points(tt, model(par[1], par[2], par[3], par[4]), col=2, pch=16)"
   ]
  },
  {
   "cell_type": "markdown",
   "metadata": {},
   "source": [
    "**How far away can we go and still get the answer?**"
   ]
  },
  {
   "cell_type": "markdown",
   "metadata": {},
   "source": [
    "## Why does this happen?"
   ]
  },
  {
   "cell_type": "markdown",
   "metadata": {},
   "source": [
    "First, let's see if we can reproduce the problem with just 2 variables."
   ]
  },
  {
   "cell_type": "code",
   "execution_count": null,
   "metadata": {
    "collapsed": true
   },
   "outputs": [],
   "source": [
    "lossfunc = function(par) {\n",
    "    sum((yy - model(par[1], par[2], PHASESHIFT, OFFSET))^2)\n",
    "}"
   ]
  },
  {
   "cell_type": "code",
   "execution_count": null,
   "metadata": {
    "scrolled": false
   },
   "outputs": [],
   "source": [
    "par = optim(c(1, 1, 0, 0), lossfunc)$par\n",
    "\n",
    "plot(tt, yy, col=1)\n",
    "points(tt, model(par[1], par[2], PHASESHIFT, OFFSET), col=2, pch=16)"
   ]
  },
  {
   "cell_type": "code",
   "execution_count": null,
   "metadata": {},
   "outputs": [],
   "source": [
    "par"
   ]
  },
  {
   "cell_type": "markdown",
   "metadata": {},
   "source": [
    "Assuming that also failed, let's sample an entire grid around our points."
   ]
  },
  {
   "cell_type": "code",
   "execution_count": null,
   "metadata": {
    "collapsed": true
   },
   "outputs": [],
   "source": [
    "grid = expand.grid(AA=seq(MIN1, MAX1, length.out=100), ff=seq(MIN2, MAX2, length.out=100))"
   ]
  },
  {
   "cell_type": "code",
   "execution_count": null,
   "metadata": {
    "collapsed": true
   },
   "outputs": [],
   "source": [
    "grid$loss = sapply(1:nrow(grid), function(ii) lossfunc(c(grid$AA[ii], grid$ff[ii])))"
   ]
  },
  {
   "cell_type": "code",
   "execution_count": null,
   "metadata": {
    "collapsed": true
   },
   "outputs": [],
   "source": [
    "library(tidyverse)"
   ]
  },
  {
   "cell_type": "code",
   "execution_count": null,
   "metadata": {},
   "outputs": [],
   "source": [
    "ggplot(grid, aes(AA, ff, fill=loss)) + geom_raster() + geom_point(data=grid[which.min(grid$loss),], col='white')"
   ]
  },
  {
   "cell_type": "markdown",
   "metadata": {},
   "source": [
    "## Solution 1: Sample the whole space"
   ]
  },
  {
   "cell_type": "markdown",
   "metadata": {},
   "source": [
    "## Solutions not appearing in this practicum\n",
    "\n",
    "* Random sampling\n",
    "* Genetic algorithms\n",
    "* Simulated annealing"
   ]
  },
  {
   "cell_type": "markdown",
   "metadata": {},
   "source": [
    "## Solution 2: Linearize with manifolds"
   ]
  },
  {
   "cell_type": "markdown",
   "metadata": {},
   "source": [
    "Sinusoids are the result of feedback. That means that we should be able to write something like:\n",
    "$$y_t = \\alpha + \\beta y_{t-1}$$\n",
    "\n",
    "Let's try it!"
   ]
  },
  {
   "cell_type": "code",
   "execution_count": null,
   "metadata": {
    "collapsed": true
   },
   "outputs": [],
   "source": [
    "model = function(aa, bb) {\n",
    "    ???\n",
    "}"
   ]
  },
  {
   "cell_type": "code",
   "execution_count": null,
   "metadata": {
    "collapsed": true
   },
   "outputs": [],
   "source": [
    "lossfunc = function(par) {\n",
    "    ???\n",
    "}"
   ]
  },
  {
   "cell_type": "code",
   "execution_count": null,
   "metadata": {},
   "outputs": [],
   "source": [
    "par = optim(c(1, 1, 1), lossfunc)$par\n",
    "\n",
    "plot(tt, yy, col=1)\n",
    "points(tt[1:(length(yy)-1)], model(par[1], par[2]), col=2, pch=16)"
   ]
  },
  {
   "cell_type": "markdown",
   "metadata": {},
   "source": [
    "We can do even better with 2 terms-- in fact, we can find an exact solution!"
   ]
  },
  {
   "cell_type": "code",
   "execution_count": null,
   "metadata": {
    "collapsed": true
   },
   "outputs": [],
   "source": [
    "model = function(aa, bb, cc) {\n",
    "    ???\n",
    "}"
   ]
  },
  {
   "cell_type": "code",
   "execution_count": null,
   "metadata": {
    "collapsed": true
   },
   "outputs": [],
   "source": [
    "lossfunc = function(par) {\n",
    "    ???\n",
    "}"
   ]
  },
  {
   "cell_type": "code",
   "execution_count": null,
   "metadata": {
    "scrolled": true
   },
   "outputs": [],
   "source": [
    "par = optim(c(1, 1, 1), lossfunc)$par\n",
    "\n",
    "plot(tt, yy, col=1)\n",
    "points(tt[1:(length(yy)-2)], model(par[1], par[2], par[3]), col=2, pch=16)"
   ]
  },
  {
   "cell_type": "code",
   "execution_count": null,
   "metadata": {},
   "outputs": [],
   "source": [
    "summary(lm(yy ~ lag(yy) + lag(yy, 2)))"
   ]
  },
  {
   "cell_type": "markdown",
   "metadata": {},
   "source": [
    "**This is why you get oscillations when you try to set the thermostat!**"
   ]
  },
  {
   "cell_type": "markdown",
   "metadata": {},
   "source": [
    "**Why doesn't the first feedback model above (Roe & Baker) make oscillations?**"
   ]
  }
 ],
 "metadata": {
  "kernelspec": {
   "display_name": "R",
   "language": "R",
   "name": "ir"
  },
  "language_info": {
   "codemirror_mode": "r",
   "file_extension": ".r",
   "mimetype": "text/x-r-source",
   "name": "R",
   "pygments_lexer": "r",
   "version": "4.0.2"
  }
 },
 "nbformat": 4,
 "nbformat_minor": 4
}
