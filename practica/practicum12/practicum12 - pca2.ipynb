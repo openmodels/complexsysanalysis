{
 "cells": [
  {
   "cell_type": "code",
   "execution_count": null,
   "id": "a32554cf",
   "metadata": {},
   "outputs": [],
   "source": [
    "library(raster)"
   ]
  },
  {
   "cell_type": "code",
   "execution_count": null,
   "id": "9394a076",
   "metadata": {},
   "outputs": [],
   "source": [
    "rr = raster(\"uk_tmax_BCC-CSM2-MR_ssp370_2081-2100.nc\")"
   ]
  },
  {
   "cell_type": "code",
   "execution_count": null,
   "id": "6cf09f09",
   "metadata": {},
   "outputs": [],
   "source": [
    "rr"
   ]
  },
  {
   "cell_type": "code",
   "execution_count": null,
   "id": "8f86f5d8",
   "metadata": {},
   "outputs": [],
   "source": [
    "image(rr)"
   ]
  },
  {
   "cell_type": "code",
   "execution_count": null,
   "id": "76ebe0a5",
   "metadata": {},
   "outputs": [],
   "source": [
    "df = as.data.frame(rr, xy=T)"
   ]
  },
  {
   "cell_type": "code",
   "execution_count": null,
   "id": "e9295701",
   "metadata": {},
   "outputs": [],
   "source": [
    "head(df)"
   ]
  },
  {
   "cell_type": "code",
   "execution_count": null,
   "id": "b907856e",
   "metadata": {},
   "outputs": [],
   "source": [
    "valid = !is.na(df$variable)"
   ]
  },
  {
   "cell_type": "code",
   "execution_count": null,
   "id": "8987e2ad",
   "metadata": {},
   "outputs": [],
   "source": [
    "allvalues = matrix(NA, 0, sum(valid))"
   ]
  },
  {
   "cell_type": "code",
   "execution_count": null,
   "id": "a89b634f",
   "metadata": {
    "scrolled": true
   },
   "outputs": [],
   "source": [
    "dim(allvalues)"
   ]
  },
  {
   "cell_type": "code",
   "execution_count": null,
   "id": "0654e7a7",
   "metadata": {},
   "outputs": [],
   "source": [
    "for (filename in list.files(\".\", pattern=\"\\\\.nc\"))\n",
    "    print(filename)"
   ]
  },
  {
   "cell_type": "code",
   "execution_count": null,
   "id": "41a05949",
   "metadata": {},
   "outputs": [],
   "source": [
    "allvalues = matrix(NA, 0, sum(!is.na(df$variable)))\n",
    "for (filename in list.files(\".\", pattern=\"\\\\.nc\")) {\n",
    "    rr = raster(filename, band=8)\n",
    "    values = as.data.frame(rr, xy=T)\n",
    "    allvalues = rbind(allvalues, values$variable[valid])\n",
    "}"
   ]
  },
  {
   "cell_type": "code",
   "execution_count": null,
   "id": "41bb798a",
   "metadata": {},
   "outputs": [],
   "source": [
    "dim(allvalues)"
   ]
  },
  {
   "cell_type": "code",
   "execution_count": null,
   "id": "eef2b15c",
   "metadata": {},
   "outputs": [],
   "source": [
    "df$mmm[valid] = colMeans(allvalues)"
   ]
  },
  {
   "cell_type": "code",
   "execution_count": null,
   "id": "7efc8c9d",
   "metadata": {},
   "outputs": [],
   "source": [
    "library(ggplot2)"
   ]
  },
  {
   "cell_type": "code",
   "execution_count": null,
   "id": "a64c85a9",
   "metadata": {},
   "outputs": [],
   "source": [
    "ggplot(df, aes(x, y, fill=mmm)) + geom_raster()"
   ]
  },
  {
   "cell_type": "code",
   "execution_count": null,
   "id": "339cb137",
   "metadata": {},
   "outputs": [],
   "source": [
    "df$mdiff[valid] = apply(allvalues, 2, function(x) max(x) - min(x))"
   ]
  },
  {
   "cell_type": "code",
   "execution_count": null,
   "id": "381c6d9e",
   "metadata": {},
   "outputs": [],
   "source": [
    "ggplot(df, aes(x, y, fill=mdiff)) + geom_raster()"
   ]
  },
  {
   "cell_type": "code",
   "execution_count": null,
   "id": "67440cb9",
   "metadata": {},
   "outputs": [],
   "source": [
    "pca = prcomp(allvalues, center=F, scale=F)"
   ]
  },
  {
   "cell_type": "code",
   "execution_count": null,
   "id": "a0a9d8e9",
   "metadata": {},
   "outputs": [],
   "source": [
    "summary(pca)"
   ]
  },
  {
   "cell_type": "code",
   "execution_count": null,
   "id": "241f8bf0",
   "metadata": {},
   "outputs": [],
   "source": [
    "plot(pca)"
   ]
  },
  {
   "cell_type": "code",
   "execution_count": null,
   "id": "46160f35",
   "metadata": {
    "scrolled": true
   },
   "outputs": [],
   "source": [
    "plot(pca$sdev^2)"
   ]
  },
  {
   "cell_type": "code",
   "execution_count": null,
   "id": "09653ad6",
   "metadata": {},
   "outputs": [],
   "source": [
    "plot(pca$sdev[-1]^2)"
   ]
  },
  {
   "cell_type": "code",
   "execution_count": null,
   "id": "8bfbace0",
   "metadata": {},
   "outputs": [],
   "source": [
    "names(pca)"
   ]
  },
  {
   "cell_type": "code",
   "execution_count": null,
   "id": "dc97247d",
   "metadata": {},
   "outputs": [],
   "source": [
    "pca$rotation"
   ]
  },
  {
   "cell_type": "code",
   "execution_count": null,
   "id": "bd2fb542",
   "metadata": {},
   "outputs": [],
   "source": [
    "pca$x"
   ]
  },
  {
   "cell_type": "code",
   "execution_count": null,
   "id": "46901351",
   "metadata": {},
   "outputs": [],
   "source": [
    "df$pc1[valid] = pca$rotation[, 1]"
   ]
  },
  {
   "cell_type": "code",
   "execution_count": null,
   "id": "c5b4d2e6",
   "metadata": {},
   "outputs": [],
   "source": [
    "ggplot(df, aes(x, y, fill=pc1)) + geom_raster()"
   ]
  },
  {
   "cell_type": "code",
   "execution_count": null,
   "id": "fe9a2270",
   "metadata": {},
   "outputs": [],
   "source": [
    "plot(pca$x[, 1])"
   ]
  },
  {
   "cell_type": "code",
   "execution_count": null,
   "id": "becbed98",
   "metadata": {},
   "outputs": [],
   "source": [
    "df$pc2[valid] = pca$rotation[, 2]"
   ]
  },
  {
   "cell_type": "code",
   "execution_count": null,
   "id": "5848494f",
   "metadata": {},
   "outputs": [],
   "source": [
    "ggplot(df, aes(x, y, fill=pc2)) + geom_raster()"
   ]
  },
  {
   "cell_type": "code",
   "execution_count": null,
   "id": "85b003f7",
   "metadata": {
    "scrolled": true
   },
   "outputs": [],
   "source": [
    "plot(pca$x[, 2])"
   ]
  },
  {
   "cell_type": "code",
   "execution_count": null,
   "id": "32e4ab97",
   "metadata": {},
   "outputs": [],
   "source": [
    "df$pc3[valid] = pca$rotation[, 3]"
   ]
  },
  {
   "cell_type": "code",
   "execution_count": null,
   "id": "dddfe5a8",
   "metadata": {
    "scrolled": true
   },
   "outputs": [],
   "source": [
    "ggplot(df, aes(x, y, fill=pc3)) + geom_raster()"
   ]
  },
  {
   "cell_type": "code",
   "execution_count": null,
   "id": "73fc7f51",
   "metadata": {},
   "outputs": [],
   "source": [
    "plot(pca$x[, 3])"
   ]
  },
  {
   "cell_type": "code",
   "execution_count": null,
   "id": "21b3bd6a",
   "metadata": {},
   "outputs": [],
   "source": [
    "sd(allvalues)"
   ]
  },
  {
   "cell_type": "code",
   "execution_count": null,
   "id": "617dee51",
   "metadata": {},
   "outputs": [],
   "source": [
    "predvalues = pca$x[, 1, drop=F] %*% t(pca$rotation[, 1, drop=F])"
   ]
  },
  {
   "cell_type": "code",
   "execution_count": null,
   "id": "0cd60391",
   "metadata": {},
   "outputs": [],
   "source": [
    "dim(predvalues)"
   ]
  },
  {
   "cell_type": "code",
   "execution_count": null,
   "id": "5a736870",
   "metadata": {},
   "outputs": [],
   "source": [
    "error = allvalues - predvalues"
   ]
  },
  {
   "cell_type": "code",
   "execution_count": null,
   "id": "10aeb10f",
   "metadata": {},
   "outputs": [],
   "source": [
    "sd(error)"
   ]
  },
  {
   "cell_type": "code",
   "execution_count": null,
   "id": "e93e9e47",
   "metadata": {},
   "outputs": [],
   "source": [
    "predvalues = pca$x[, 1:2] %*% t(pca$rotation[, 1:2])"
   ]
  },
  {
   "cell_type": "code",
   "execution_count": null,
   "id": "101442f4",
   "metadata": {},
   "outputs": [],
   "source": [
    "error = allvalues - predvalues"
   ]
  },
  {
   "cell_type": "code",
   "execution_count": null,
   "id": "db87a917",
   "metadata": {},
   "outputs": [],
   "source": [
    "sd(error)"
   ]
  },
  {
   "cell_type": "code",
   "execution_count": null,
   "id": "fc0eafa6",
   "metadata": {},
   "outputs": [],
   "source": [
    "pca = prcomp(allvalues, center=T, scale=F)"
   ]
  },
  {
   "cell_type": "code",
   "execution_count": null,
   "id": "a44319ea",
   "metadata": {},
   "outputs": [],
   "source": [
    "df$pc1[valid] = pca$rotation[, 1]"
   ]
  },
  {
   "cell_type": "code",
   "execution_count": null,
   "id": "a048f4e6",
   "metadata": {
    "scrolled": true
   },
   "outputs": [],
   "source": [
    "ggplot(df, aes(x, y, fill=pc1)) + geom_raster()"
   ]
  },
  {
   "cell_type": "code",
   "execution_count": null,
   "id": "5d41f392",
   "metadata": {},
   "outputs": [],
   "source": [
    "plot(pca$x[, 1])"
   ]
  },
  {
   "cell_type": "code",
   "execution_count": null,
   "id": "608004b9",
   "metadata": {},
   "outputs": [],
   "source": [
    "pca = prcomp(allvalues, center=T, scale=T)"
   ]
  },
  {
   "cell_type": "code",
   "execution_count": null,
   "id": "117995ba",
   "metadata": {},
   "outputs": [],
   "source": [
    "df$pc1[valid] = pca$rotation[, 1]"
   ]
  },
  {
   "cell_type": "code",
   "execution_count": null,
   "id": "ac24eb74",
   "metadata": {},
   "outputs": [],
   "source": [
    "ggplot(df, aes(x, y, fill=pc1)) + geom_raster()"
   ]
  },
  {
   "cell_type": "code",
   "execution_count": null,
   "id": "9094bb18",
   "metadata": {},
   "outputs": [],
   "source": [
    "plot(pca$x[, 1])"
   ]
  }
 ],
 "metadata": {
  "kernelspec": {
   "display_name": "R",
   "language": "R",
   "name": "ir"
  },
  "language_info": {
   "codemirror_mode": "r",
   "file_extension": ".r",
   "mimetype": "text/x-r-source",
   "name": "R",
   "pygments_lexer": "r",
   "version": "4.1.1"
  }
 },
 "nbformat": 4,
 "nbformat_minor": 5
}
