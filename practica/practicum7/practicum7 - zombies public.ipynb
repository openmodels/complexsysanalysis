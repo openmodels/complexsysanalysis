{
 "cells": [
  {
   "cell_type": "markdown",
   "id": "2b4a74ad",
   "metadata": {},
   "source": [
    "# Simple zombie ABM"
   ]
  },
  {
   "cell_type": "code",
   "execution_count": null,
   "id": "36b78d84",
   "metadata": {},
   "outputs": [],
   "source": [
    "size = 100\n",
    "nagents = NNN"
   ]
  },
  {
   "cell_type": "code",
   "execution_count": null,
   "id": "ba826b46",
   "metadata": {},
   "outputs": [],
   "source": [
    "agents = data.frame(id=1:nagents, loc=sample(1:size, nagents, replace=F), infected=c(T, rep(F, nagents - 1)))"
   ]
  },
  {
   "cell_type": "code",
   "execution_count": null,
   "id": "fb39eb36",
   "metadata": {},
   "outputs": [],
   "source": [
    "history = data.frame()\n",
    "for (timestep in 1:100) {\n",
    "    # Clock-tick actions\n",
    "    for (ii in 1:nrow(agents)) {\n",
    "        agents$loc[ii] = agents$loc[ii] + sample(c(-1, 1), 1)\n",
    "        if (agents$infected[ii]) {\n",
    "            agents$infected[agents$loc == agents$loc[ii]] = TRUE\n",
    "        }\n",
    "    }\n",
    "    history = rbind(history, cbind(timestep, agents))\n",
    "}"
   ]
  },
  {
   "cell_type": "code",
   "execution_count": null,
   "id": "958397e3",
   "metadata": {},
   "outputs": [],
   "source": [
    "library(ggplot2)"
   ]
  },
  {
   "cell_type": "code",
   "execution_count": null,
   "id": "9bd90466",
   "metadata": {},
   "outputs": [],
   "source": [
    "ggplot(history, aes(timestep, loc, colour=infected, group=id)) + geom_line()"
   ]
  },
  {
   "cell_type": "markdown",
   "id": "71d683f0",
   "metadata": {},
   "source": [
    "Run and chase."
   ]
  },
  {
   "cell_type": "code",
   "execution_count": null,
   "id": "0de3ee90",
   "metadata": {},
   "outputs": [],
   "source": [
    "agents = data.frame(id=1:nagents, loc=sample(1:size, nagents, replace=F), infected=c(T, rep(F, nagents - 1)))"
   ]
  },
  {
   "cell_type": "code",
   "execution_count": null,
   "id": "9cc5dea5",
   "metadata": {
    "scrolled": true
   },
   "outputs": [],
   "source": [
    "history = data.frame()\n",
    "for (timestep in 1:100) {\n",
    "    # Clock-tick actions\n",
    "    for (ii in 1:nrow(agents)) {\n",
    "        nearby = agents$loc >= agents$loc[ii] - 5 & agents$loc <= agents$loc[ii] + 5 & agents$infected != agents$infected[ii]\n",
    "        if (sum(nearby) == 0)\n",
    "            agents$loc[ii] = agents$loc[ii] + sample(c(-1, 1), 1)\n",
    "        else {\n",
    "            towardother = sign(mean(agents$loc[nearby] - agents$loc[ii]))\n",
    "            if (agents$infected[ii])\n",
    "                agents$loc[ii] = agents$loc[ii] + towardother\n",
    "            else\n",
    "                agents$loc[ii] = agents$loc[ii] - towardother\n",
    "        }\n",
    "        if (agents$loc[ii] < 1)\n",
    "            agents$loc[ii] = 1\n",
    "        if (agents$loc[ii] > 100)\n",
    "            agents$loc[ii] = 100\n",
    "        if (agents$infected[ii]) {\n",
    "            agents$infected[agents$loc == agents$loc[ii]] = TRUE\n",
    "        }\n",
    "    }\n",
    "    history = rbind(history, cbind(timestep, agents))\n",
    "}"
   ]
  },
  {
   "cell_type": "code",
   "execution_count": null,
   "id": "88231184",
   "metadata": {},
   "outputs": [],
   "source": [
    "ggplot(history, aes(timestep, loc, colour=infected, group=id)) + geom_line()"
   ]
  },
  {
   "cell_type": "code",
   "execution_count": null,
   "id": "5c622820",
   "metadata": {},
   "outputs": [],
   "source": [
    "agents = data.frame(id=1:nagents, loc=sample(1:size, nagents, replace=F), infected=c(T, rep(F, nagents - 1)))\n",
    "history = data.frame()\n",
    "for (timestep in 1:100) {\n",
    "    # Clock-tick actions\n",
    "    for (ii in 1:nrow(agents)) {\n",
    "        nearby = agents$loc >= agents$loc[ii] - 5 & agents$loc <= agents$loc[ii] + 5 & agents$infected != agents$infected[ii]\n",
    "        if (sum(nearby) == 0)\n",
    "            newloc = agents$loc[ii] + sample(c(-1, 1), 1)\n",
    "        else {\n",
    "            towardother = sign(mean(agents$loc[nearby] - agents$loc[ii]))\n",
    "            if (towardother == 0)\n",
    "                newloc = agents$loc[ii] + sample(c(-1, 1), 1)\n",
    "            else if (agents$infected[ii])\n",
    "                newloc = agents$loc[ii] + towardother\n",
    "            else\n",
    "                newloc = agents$loc[ii] - towardother\n",
    "        }\n",
    "        if (newloc < 1)\n",
    "            newloc = 1\n",
    "        if (newloc > 100)\n",
    "            newloc = 100\n",
    "        if (agents$infected[ii]) {\n",
    "            agents$loc[ii] = newloc\n",
    "            agents$infected[agents$loc == agents$loc[ii]] = TRUE\n",
    "        } else {\n",
    "            if (!any(agents$loc == newloc))\n",
    "                agents$loc[ii] = newloc\n",
    "        }\n",
    "    }\n",
    "    history = rbind(history, cbind(timestep, agents))\n",
    "}"
   ]
  },
  {
   "cell_type": "code",
   "execution_count": null,
   "id": "f72fdbcd",
   "metadata": {},
   "outputs": [],
   "source": [
    "ggplot(history, aes(timestep, loc, colour=infected, group=id)) + geom_line()"
   ]
  }
 ],
 "metadata": {
  "kernelspec": {
   "display_name": "R",
   "language": "R",
   "name": "ir"
  },
  "language_info": {
   "codemirror_mode": "r",
   "file_extension": ".r",
   "mimetype": "text/x-r-source",
   "name": "R",
   "pygments_lexer": "r",
   "version": "4.1.1"
  }
 },
 "nbformat": 4,
 "nbformat_minor": 5
}
