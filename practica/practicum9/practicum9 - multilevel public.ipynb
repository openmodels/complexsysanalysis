{
 "cells": [
  {
   "cell_type": "markdown",
   "id": "55fdb0c3",
   "metadata": {},
   "source": [
    "# Multi-level OLS modeling\n",
    "\n",
    "Goals:\n",
    " - Working with panel data\n",
    " - More experience with multivariate regression\n",
    " - Simple example of multilevel modeling"
   ]
  },
  {
   "cell_type": "code",
   "execution_count": null,
   "id": "e5d140d3",
   "metadata": {},
   "outputs": [],
   "source": [
    "df <- read.csv(\"coffee.csv\")"
   ]
  },
  {
   "cell_type": "code",
   "execution_count": null,
   "id": "0dd06319",
   "metadata": {},
   "outputs": [],
   "source": [
    "head(df)"
   ]
  },
  {
   "cell_type": "code",
   "execution_count": null,
   "id": "9fd201de",
   "metadata": {},
   "outputs": [],
   "source": [
    "length(unique(df$region))"
   ]
  },
  {
   "cell_type": "code",
   "execution_count": null,
   "id": "34182704",
   "metadata": {
    "scrolled": true
   },
   "outputs": [],
   "source": [
    "library(ggplot2)\n",
    "ggplot(subset(df, region %in% unique(df$region)[1:16]), aes(year, produced)) +\n",
    "  facet_wrap(~ region, scales='free_y') + geom_line()"
   ]
  },
  {
   "cell_type": "code",
   "execution_count": null,
   "id": "ebae9e3d",
   "metadata": {},
   "outputs": [],
   "source": [
    "ggplot(subset(df, region %in% unique(df$region)[1:16]), aes(year, tavg)) +\n",
    "  facet_wrap(~ region) + geom_line()"
   ]
  },
  {
   "cell_type": "code",
   "execution_count": null,
   "id": "095c7ba8",
   "metadata": {
    "scrolled": true
   },
   "outputs": [],
   "source": [
    "plot(density(df$tavg))"
   ]
  },
  {
   "cell_type": "code",
   "execution_count": null,
   "id": "fbe91616",
   "metadata": {
    "scrolled": false
   },
   "outputs": [],
   "source": [
    "summary(lm(yield ~ tavg, data=df))"
   ]
  },
  {
   "cell_type": "code",
   "execution_count": null,
   "id": "8bf3a8a8",
   "metadata": {},
   "outputs": [],
   "source": [
    "df$tavg2 = df$tavg^2"
   ]
  },
  {
   "cell_type": "code",
   "execution_count": null,
   "id": "eb0bc881",
   "metadata": {
    "scrolled": true
   },
   "outputs": [],
   "source": [
    "summary(lm(yield ~ tavg + tavg2, data=df))"
   ]
  },
  {
   "cell_type": "code",
   "execution_count": null,
   "id": "f052f29d",
   "metadata": {},
   "outputs": [],
   "source": [
    "projdf = data.frame(tavg=seq(24, 26, length.out=100))"
   ]
  },
  {
   "cell_type": "code",
   "execution_count": null,
   "id": "0ee34d55",
   "metadata": {},
   "outputs": [],
   "source": [
    "projdf$tavg2 = projdf$tavg^2"
   ]
  },
  {
   "cell_type": "code",
   "execution_count": null,
   "id": "7733fb5a",
   "metadata": {},
   "outputs": [],
   "source": [
    "mod = lm(yield ~ tavg + tavg2, data=df)"
   ]
  },
  {
   "cell_type": "code",
   "execution_count": null,
   "id": "3a0299d7",
   "metadata": {},
   "outputs": [],
   "source": [
    "projdf$yield = predict(mod, projdf)"
   ]
  },
  {
   "cell_type": "code",
   "execution_count": null,
   "id": "7d7ad5f7",
   "metadata": {
    "scrolled": true
   },
   "outputs": [],
   "source": [
    "ggplot(projdf, aes(tavg, yield)) + geom_line()"
   ]
  },
  {
   "cell_type": "code",
   "execution_count": null,
   "id": "a04c05ca",
   "metadata": {},
   "outputs": [],
   "source": [
    "?predict"
   ]
  },
  {
   "cell_type": "code",
   "execution_count": null,
   "id": "2870bc5f",
   "metadata": {
    "scrolled": true
   },
   "outputs": [],
   "source": [
    "?predict.lm"
   ]
  },
  {
   "cell_type": "code",
   "execution_count": null,
   "id": "5978b9a0",
   "metadata": {},
   "outputs": [],
   "source": [
    "projdf2 = cbind(projdf, predict(mod, projdf, interval='confidence'))"
   ]
  },
  {
   "cell_type": "code",
   "execution_count": null,
   "id": "52ab7872",
   "metadata": {
    "scrolled": true
   },
   "outputs": [],
   "source": [
    "head(projdf2)"
   ]
  },
  {
   "cell_type": "code",
   "execution_count": null,
   "id": "08ead67d",
   "metadata": {
    "scrolled": true
   },
   "outputs": [],
   "source": [
    "ggplot(projdf2, aes(tavg, fit)) + geom_line() + geom_ribbon(aes(ymin=lwr, ymax=upr), alpha=.5)"
   ]
  },
  {
   "cell_type": "code",
   "execution_count": null,
   "id": "793ee222",
   "metadata": {},
   "outputs": [],
   "source": [
    "library(lfe)"
   ]
  },
  {
   "cell_type": "code",
   "execution_count": null,
   "id": "625d7052",
   "metadata": {
    "scrolled": false
   },
   "outputs": [],
   "source": [
    "summary(felm(yield ~ tavg + tavg2 | region, data=df))"
   ]
  },
  {
   "cell_type": "code",
   "execution_count": null,
   "id": "3c75a32f",
   "metadata": {},
   "outputs": [],
   "source": [
    "mod2 = felm(yield ~ tavg + tavg2 | region, data=df)"
   ]
  },
  {
   "cell_type": "code",
   "execution_count": null,
   "id": "37d8d227",
   "metadata": {},
   "outputs": [],
   "source": [
    "projdf3 = cbind(projdf, predict(mod2, projdf))"
   ]
  },
  {
   "cell_type": "code",
   "execution_count": null,
   "id": "8eb12e08",
   "metadata": {},
   "outputs": [],
   "source": [
    "predict.felm <- function(object, newdata, se.fit = FALSE,\n",
    "                         interval = \"none\",\n",
    "                         level = 0.95, special.vcov=NULL){\n",
    "  if(missing(newdata)){\n",
    "    stop(\"predict.felm requires newdata and predicts for all group effects = 0.\")\n",
    "  }\n",
    "\n",
    "  tt <- terms(object)\n",
    "  Terms <- delete.response(tt)\n",
    "  attr(Terms, \"intercept\") <- 0\n",
    "\n",
    "  m.mat <- model.matrix(Terms, data = newdata)\n",
    "  m.coef <- as.numeric(object$coef)\n",
    "  fit <- as.vector(m.mat %*% object$coef)\n",
    "  fit <- data.frame(fit = fit)\n",
    "\n",
    "  if(se.fit | interval != \"none\"){\n",
    "      if (!is.null(special.vcov)) {\n",
    "          vcov_mat <- special.vcov\n",
    "      } else if (!is.null(object$clustervcv)){\n",
    "          vcov_mat <- object$clustervcv\n",
    "      } else if (!is.null(object$robustvcv)) {\n",
    "          vcov_mat <- object$robustvcv\n",
    "      } else if (!is.null(object$vcv)){\n",
    "          vcov_mat <- object$vcv\n",
    "      } else {\n",
    "          stop(\"No vcv attached to felm object.\")\n",
    "      }\n",
    "      se.fit_mat <- sqrt(diag(m.mat %*% vcov_mat %*% t(m.mat)))\n",
    "  }\n",
    "  if(interval == \"confidence\"){\n",
    "    t_val <- qt((1 - level) / 2 + level, df = object$df.residual)\n",
    "    fit$lwr <- fit$fit - t_val * se.fit_mat\n",
    "    fit$upr <- fit$fit + t_val * se.fit_mat\n",
    "  } else if (interval == \"prediction\"){\n",
    "    stop(\"interval = \\\"prediction\\\" not yet implemented\")\n",
    "  }\n",
    "  if(se.fit){\n",
    "    return(list(fit=fit, se.fit=se.fit_mat))\n",
    "  } else {\n",
    "    return(fit)\n",
    "  }\n",
    "}"
   ]
  },
  {
   "cell_type": "code",
   "execution_count": null,
   "id": "f22ee406",
   "metadata": {},
   "outputs": [],
   "source": [
    "projdf3 = cbind(projdf, predict.felm(mod2, projdf, interval=\"confidence\"))"
   ]
  },
  {
   "cell_type": "code",
   "execution_count": null,
   "id": "7a00d151",
   "metadata": {
    "scrolled": true
   },
   "outputs": [],
   "source": [
    "head(projdf3)"
   ]
  },
  {
   "cell_type": "code",
   "execution_count": null,
   "id": "5da9be9e",
   "metadata": {
    "scrolled": true
   },
   "outputs": [],
   "source": [
    "ggplot(projdf2, aes(tavg, fit)) + geom_line(aes(colour='LM')) + geom_ribbon(aes(ymin=lwr, ymax=upr, colour='LM'), alpha=.5) +\n",
    "  geom_line(data=projdf3, aes(colour='FELM')) + geom_ribbon(data=projdf3, aes(ymin=lwr, ymax=upr, colour='FELM'), alpha=.5)"
   ]
  },
  {
   "cell_type": "code",
   "execution_count": null,
   "id": "4a3ebc74",
   "metadata": {},
   "outputs": [],
   "source": [
    "projdf.diff = data.frame(tavg=projdf$tavg - 25, tavg2=projdf$tavg2 - 25^2)"
   ]
  },
  {
   "cell_type": "code",
   "execution_count": null,
   "id": "ca1f92dd",
   "metadata": {},
   "outputs": [],
   "source": [
    "projdf3 = cbind(projdf, predict.felm(mod2, projdf.diff, interval=\"confidence\"))"
   ]
  },
  {
   "cell_type": "code",
   "execution_count": null,
   "id": "1d6bac5b",
   "metadata": {},
   "outputs": [],
   "source": [
    "ggplot(projdf2, aes(tavg, fit)) + geom_line(aes(colour='LM')) + geom_ribbon(aes(ymin=lwr, ymax=upr, colour='LM'), alpha=.5) +\n",
    "  geom_line(data=projdf3, aes(colour='FELM')) + geom_ribbon(data=projdf3, aes(ymin=lwr, ymax=upr, colour='FELM'), alpha=.5)"
   ]
  },
  {
   "cell_type": "markdown",
   "id": "57e8b8db",
   "metadata": {},
   "source": [
    "## Want elevation by state\n",
    "\n",
    "Get ADM2 shapefile from https://gadm.org/\n",
    "Get GLOBE digital elevation model from https://www.ngdc.noaa.gov/mgg/topo/globe.html\n",
    "\n",
    "Use \"Spatial statistics\" in QGIS to get average elevation by ADM2 region."
   ]
  },
  {
   "cell_type": "code",
   "execution_count": null,
   "id": "eed8e469",
   "metadata": {},
   "outputs": [],
   "source": [
    "library(PBSmapping)\n",
    "polydata = attr(importShapefile(\"brazil-adm2.shp\"), \"PolyData\")"
   ]
  },
  {
   "cell_type": "code",
   "execution_count": null,
   "id": "0a9514ff",
   "metadata": {},
   "outputs": [],
   "source": [
    "head(polydata)"
   ]
  },
  {
   "cell_type": "code",
   "execution_count": null,
   "id": "f5a96a81",
   "metadata": {},
   "outputs": [],
   "source": [
    "states = read.csv(\"brazil-states.csv\")"
   ]
  },
  {
   "cell_type": "code",
   "execution_count": null,
   "id": "6d76fa32",
   "metadata": {},
   "outputs": [],
   "source": [
    "head(states)"
   ]
  },
  {
   "cell_type": "code",
   "execution_count": null,
   "id": "d9f7c3b2",
   "metadata": {},
   "outputs": [],
   "source": [
    "library(dplyr)"
   ]
  },
  {
   "cell_type": "code",
   "execution_count": null,
   "id": "d1b9e274",
   "metadata": {},
   "outputs": [],
   "source": [
    "polydata2 = polydata %>% left_join(states, by=c('NAME_1'='Name'))"
   ]
  },
  {
   "cell_type": "code",
   "execution_count": null,
   "id": "cb55aca2",
   "metadata": {},
   "outputs": [],
   "source": [
    "nrow(polydata)"
   ]
  },
  {
   "cell_type": "code",
   "execution_count": null,
   "id": "22c533c5",
   "metadata": {},
   "outputs": [],
   "source": [
    "nrow(polydata2)"
   ]
  },
  {
   "cell_type": "code",
   "execution_count": null,
   "id": "87d3ab3d",
   "metadata": {},
   "outputs": [],
   "source": [
    "polydata2$mergename = paste0(polydata2$NAME_2, \" (\", polydata2$Code, \")\")"
   ]
  },
  {
   "cell_type": "code",
   "execution_count": null,
   "id": "a14d3117",
   "metadata": {},
   "outputs": [],
   "source": [
    "head(polydata2)"
   ]
  },
  {
   "cell_type": "code",
   "execution_count": null,
   "id": "9fe796a1",
   "metadata": {},
   "outputs": [],
   "source": [
    "df2 = df %>% left_join(polydata2, by=c(\"region\"=\"mergename\"))"
   ]
  },
  {
   "cell_type": "code",
   "execution_count": null,
   "id": "60af68b4",
   "metadata": {},
   "outputs": [],
   "source": [
    "nrow(df)"
   ]
  },
  {
   "cell_type": "code",
   "execution_count": null,
   "id": "857eadc1",
   "metadata": {},
   "outputs": [],
   "source": [
    "nrow(df2)"
   ]
  },
  {
   "cell_type": "code",
   "execution_count": null,
   "id": "3b81ca10",
   "metadata": {},
   "outputs": [],
   "source": [
    "head(df2)"
   ]
  },
  {
   "cell_type": "code",
   "execution_count": null,
   "id": "9f36cd02",
   "metadata": {},
   "outputs": [],
   "source": [
    "plot(df2$tavg, df2$elev_mean)"
   ]
  },
  {
   "cell_type": "code",
   "execution_count": null,
   "id": "d7e62b51",
   "metadata": {},
   "outputs": [],
   "source": [
    "df2$elev.ishi = df2$elev_mean > 500"
   ]
  },
  {
   "cell_type": "code",
   "execution_count": null,
   "id": "18efb9f1",
   "metadata": {},
   "outputs": [],
   "source": [
    "summary(lm(yield ~ tavg * elev_mean + tavg2 * elev_mean, data=df2))"
   ]
  },
  {
   "cell_type": "code",
   "execution_count": null,
   "id": "bd531fee",
   "metadata": {},
   "outputs": [],
   "source": [
    "quantile(df2$elev_mean, na.rm=T)"
   ]
  },
  {
   "cell_type": "code",
   "execution_count": null,
   "id": "37b7432e",
   "metadata": {},
   "outputs": [],
   "source": [
    "mod = lm(yield ~ tavg * elev_mean + tavg2 * elev_mean, data=df2)\n",
    "projdf4.hi = predict(mod, cbind(projdf, elev_mean=1000), interval=\"confidence\")\n",
    "projdf4.lo = predict(mod, cbind(projdf, elev_mean=400), interval=\"confidence\")"
   ]
  },
  {
   "cell_type": "code",
   "execution_count": null,
   "id": "b2029f60",
   "metadata": {},
   "outputs": [],
   "source": [
    "projdf4 = rbind(cbind(elev='1000 m', projdf, projdf4.hi), cbind(elev='400 m', projdf, projdf4.lo))"
   ]
  },
  {
   "cell_type": "code",
   "execution_count": null,
   "id": "81543af7",
   "metadata": {},
   "outputs": [],
   "source": [
    "head(projdf4)"
   ]
  },
  {
   "cell_type": "code",
   "execution_count": null,
   "id": "2f25465f",
   "metadata": {},
   "outputs": [],
   "source": [
    "ggplot(projdf4, aes(tavg, fit, colour=elev)) + geom_line() + geom_ribbon(aes(ymin=lwr, ymax=upr), alpha=.5)"
   ]
  },
  {
   "cell_type": "code",
   "execution_count": null,
   "id": "6a36cb83",
   "metadata": {
    "scrolled": true
   },
   "outputs": [],
   "source": [
    "summary(felm(yield ~ tavg * elev_mean + tavg2 * elev_mean | region, data=df2))"
   ]
  },
  {
   "cell_type": "code",
   "execution_count": null,
   "id": "0e0faf31",
   "metadata": {},
   "outputs": [],
   "source": [
    "summary(felm(yield ~ tavg + tavg2 + tavg : elev_mean + tavg2 : elev_mean | region, data=df2))"
   ]
  },
  {
   "cell_type": "code",
   "execution_count": null,
   "id": "ef3a6183",
   "metadata": {},
   "outputs": [],
   "source": [
    "mod = felm(yield ~ tavg + tavg2 + tavg : elev_mean + tavg2 : elev_mean | region, data=df2)\n",
    "projdf5.hi = predict.felm(mod, cbind(projdf.diff, elev_mean=1000), interval=\"confidence\")\n",
    "projdf5.lo = predict.felm(mod, cbind(projdf.diff, elev_mean=400), interval=\"confidence\")"
   ]
  },
  {
   "cell_type": "code",
   "execution_count": null,
   "id": "fcd8331d",
   "metadata": {},
   "outputs": [],
   "source": [
    "projdf5 = rbind(cbind(elev='1000 m', projdf, projdf5.hi), cbind(elev='400 m', projdf, projdf5.lo))"
   ]
  },
  {
   "cell_type": "code",
   "execution_count": null,
   "id": "cf356215",
   "metadata": {},
   "outputs": [],
   "source": [
    "head(projdf5)"
   ]
  },
  {
   "cell_type": "code",
   "execution_count": null,
   "id": "c41b7479",
   "metadata": {},
   "outputs": [],
   "source": [
    "ggplot(projdf5, aes(tavg, fit, colour=elev)) + geom_line() + geom_ribbon(aes(ymin=lwr, ymax=upr), alpha=.5)"
   ]
  }
 ],
 "metadata": {
  "kernelspec": {
   "display_name": "R",
   "language": "R",
   "name": "ir"
  },
  "language_info": {
   "codemirror_mode": "r",
   "file_extension": ".r",
   "mimetype": "text/x-r-source",
   "name": "R",
   "pygments_lexer": "r",
   "version": "4.1.1"
  }
 },
 "nbformat": 4,
 "nbformat_minor": 5
}
