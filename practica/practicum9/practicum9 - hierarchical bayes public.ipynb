{
 "cells": [
  {
   "cell_type": "markdown",
   "id": "1a01c8c8",
   "metadata": {},
   "source": [
    "# Hierarchical Bayesian Modeling\n",
    "\n",
    "See introduction in lecture notes.\n",
    "\n",
    "More details in *Bayesian Data Analysis* by Andrew Gelman et al."
   ]
  },
  {
   "cell_type": "code",
   "execution_count": null,
   "id": "15da9aa0",
   "metadata": {},
   "outputs": [],
   "source": [
    "library(rstan)"
   ]
  },
  {
   "cell_type": "markdown",
   "id": "d0e9f724",
   "metadata": {},
   "source": [
    "## The data"
   ]
  },
  {
   "cell_type": "code",
   "execution_count": null,
   "id": "13a043b6",
   "metadata": {},
   "outputs": [],
   "source": [
    "df = data.frame(school=letters[1:8],\n",
    "                effect=c(28.39, 7.94, -2.75 , 6.82, -0.64, 0.63, 18.01, 12.16),\n",
    "                stderr=c(14.9, 10.2, 16.3, 11.0, 9.4, 11.4, 10.4, 17.6))"
   ]
  },
  {
   "cell_type": "code",
   "execution_count": null,
   "id": "6f15eea2",
   "metadata": {},
   "outputs": [],
   "source": [
    "library(ggplot2)"
   ]
  },
  {
   "cell_type": "code",
   "execution_count": null,
   "id": "28823c64",
   "metadata": {},
   "outputs": [],
   "source": [
    "ggplot(df, aes(school, effect)) +\n",
    "    geom_col() + geom_errorbar(aes(ymin=effect - 1.96*stderr, ymax=effect + 1.96*stderr))"
   ]
  },
  {
   "cell_type": "markdown",
   "id": "dd31f2d4",
   "metadata": {},
   "source": [
    "## Pool the effects"
   ]
  },
  {
   "cell_type": "code",
   "execution_count": null,
   "id": "65fc0b95",
   "metadata": {},
   "outputs": [],
   "source": [
    "effect_pool = sum(df$effect / df$stderr^2) / sum(1 / df$stderr^2)"
   ]
  },
  {
   "cell_type": "code",
   "execution_count": null,
   "id": "81b0b85e",
   "metadata": {},
   "outputs": [],
   "source": [
    "stderr_pool = sqrt(1 / sum(1 / df$stderr^2))"
   ]
  },
  {
   "cell_type": "code",
   "execution_count": null,
   "id": "a6145f4f",
   "metadata": {},
   "outputs": [],
   "source": [
    "df2 = rbind(cbind(group=\"original\", df),\n",
    "            data.frame(group=\"pooled\", school=letters[1:8],\n",
    "                       effect=effect_pool, stderr=stderr_pool))"
   ]
  },
  {
   "cell_type": "code",
   "execution_count": null,
   "id": "2bd6b1bf",
   "metadata": {},
   "outputs": [],
   "source": [
    "ggplot(df2, aes(school, effect, fill=group)) +\n",
    "    geom_col(position=\"dodge\") + geom_errorbar(aes(ymin=effect - 1.96*stderr, ymax=effect + 1.96*stderr), position=\"dodge\")"
   ]
  },
  {
   "cell_type": "markdown",
   "id": "72b3fe6c",
   "metadata": {},
   "source": [
    "## Bayesian hierarchical model"
   ]
  },
  {
   "cell_type": "code",
   "execution_count": null,
   "id": "624e7dc7",
   "metadata": {},
   "outputs": [],
   "source": [
    "stan.code = \"\n",
    "data {\n",
    "  int<lower=0> J;         // number of schools\n",
    "  real y[J];              // estimated treatment effects\n",
    "  real<lower=0> sigma[J]; // s.e. of effect estimates\n",
    "}\n",
    "parameters {\n",
    "  real theta[J];\n",
    "  real mu;\n",
    "  real<lower=0> tau;\n",
    "}\n",
    "model {\n",
    "  theta ~ normal (mu, tau);\n",
    "  y ~ normal (theta, sigma);\n",
    "}\""
   ]
  },
  {
   "cell_type": "code",
   "execution_count": null,
   "id": "3ee2cfb9",
   "metadata": {},
   "outputs": [],
   "source": [
    "stan.data = list(J=nrow(df), y=df$effect, sigma=df$stderr)"
   ]
  },
  {
   "cell_type": "code",
   "execution_count": null,
   "id": "69cc5f93",
   "metadata": {},
   "outputs": [],
   "source": [
    "fit = stan(model_code=stan.code, data=stan.data)"
   ]
  },
  {
   "cell_type": "code",
   "execution_count": null,
   "id": "daa63abb",
   "metadata": {},
   "outputs": [],
   "source": [
    "summary(fit)"
   ]
  },
  {
   "cell_type": "code",
   "execution_count": null,
   "id": "a3e75be3",
   "metadata": {},
   "outputs": [],
   "source": [
    "la = extract(fit)"
   ]
  },
  {
   "cell_type": "code",
   "execution_count": null,
   "id": "0a1ae75a",
   "metadata": {},
   "outputs": [],
   "source": [
    "names(la)"
   ]
  },
  {
   "cell_type": "code",
   "execution_count": null,
   "id": "3a9e9fed",
   "metadata": {},
   "outputs": [],
   "source": [
    "dim(la$theta)"
   ]
  },
  {
   "cell_type": "code",
   "execution_count": null,
   "id": "42d92aad",
   "metadata": {},
   "outputs": [],
   "source": [
    "effect_true = colMeans(la$theta)"
   ]
  },
  {
   "cell_type": "code",
   "execution_count": null,
   "id": "1cb1cd89",
   "metadata": {},
   "outputs": [],
   "source": [
    "stderr_true = apply(la$theta, 2, sd)"
   ]
  },
  {
   "cell_type": "code",
   "execution_count": null,
   "id": "fe0ea0c6",
   "metadata": {},
   "outputs": [],
   "source": [
    "df2 = rbind(cbind(group=\"original\", df),\n",
    "            data.frame(group=\"bayes\", school=letters[1:8],\n",
    "                       effect=effect_true, stderr=stderr_true))"
   ]
  },
  {
   "cell_type": "code",
   "execution_count": null,
   "id": "08edbc47",
   "metadata": {},
   "outputs": [],
   "source": [
    "ggplot(df2, aes(school, effect, fill=group)) +\n",
    "    geom_col(position=\"dodge\") + geom_errorbar(aes(ymin=effect - 1.96*stderr, ymax=effect + 1.96*stderr), position=\"dodge\")"
   ]
  },
  {
   "cell_type": "markdown",
   "id": "d473df57",
   "metadata": {},
   "source": [
    "## Better than std. errors, we have draws of uncertainty!"
   ]
  },
  {
   "cell_type": "code",
   "execution_count": null,
   "id": "52623962",
   "metadata": {},
   "outputs": [],
   "source": [
    "apply(la$theta, 2, function(th) mean(th > 0))"
   ]
  }
 ],
 "metadata": {
  "kernelspec": {
   "display_name": "R",
   "language": "R",
   "name": "ir"
  },
  "language_info": {
   "codemirror_mode": "r",
   "file_extension": ".r",
   "mimetype": "text/x-r-source",
   "name": "R",
   "pygments_lexer": "r",
   "version": "4.1.1"
  }
 },
 "nbformat": 4,
 "nbformat_minor": 5
}
