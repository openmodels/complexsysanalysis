{
 "cells": [
  {
   "cell_type": "markdown",
   "id": "4668a445",
   "metadata": {},
   "source": [
    "Question 1 of lab 3 asked you to write in code the expression:\n",
    "$$f(x) = e^{\\sum_{i=1}^m \\lambda_i r_i(x)}$$\n",
    "\n",
    "Let's let $\\lambda = [0.7477088, -0.1245683]$, $r$ = ['mean', 'vpms'], $x$ be sampled from -10 to 10."
   ]
  },
  {
   "cell_type": "code",
   "execution_count": null,
   "id": "0b607089",
   "metadata": {},
   "outputs": [],
   "source": [
    "rfuncs <- list()\n",
    "rfuncs$mean <- function(xx) xx\n",
    "rfuncs$vpms <- function(xx) xx^2"
   ]
  },
  {
   "cell_type": "code",
   "execution_count": null,
   "id": "180a460a",
   "metadata": {},
   "outputs": [],
   "source": [
    "lambdas = c(0.7477088, -0.1245683)\n",
    "rfs = c('mean', 'vpms')\n",
    "xx = ???"
   ]
  },
  {
   "cell_type": "markdown",
   "id": "4c065ddd",
   "metadata": {},
   "source": [
    "Some ways to write it:"
   ]
  },
  {
   "cell_type": "code",
   "execution_count": null,
   "id": "b86886e3",
   "metadata": {},
   "outputs": [],
   "source": [
    "yy = 0 * xx\n",
    "for (tt in 1:length(xx)) {\n",
    "    exponent = 0\n",
    "    for (ii in 1:length(rfs))\n",
    "        exponent = exponent + lambdas[ii] * rfuncs[[rfs[ii]]](xx[tt])\n",
    "    yy[tt] = exp(exponent)\n",
    "}"
   ]
  },
  {
   "cell_type": "code",
   "execution_count": null,
   "id": "9e620db0",
   "metadata": {},
   "outputs": [],
   "source": [
    "plot(xx, yy)"
   ]
  },
  {
   "cell_type": "code",
   "execution_count": null,
   "id": "38fc2268",
   "metadata": {},
   "outputs": [],
   "source": [
    "yy = c()\n",
    "for (x in xx) {\n",
    "    exponent = 0\n",
    "    for (ii in 1:length(rfs))\n",
    "        exponent = exponent + lambdas[ii] * rfuncs[[rfs[ii]]](x)\n",
    "    yy = c(yy, exp(exponent))\n",
    "}"
   ]
  },
  {
   "cell_type": "code",
   "execution_count": null,
   "id": "e4be1894",
   "metadata": {},
   "outputs": [],
   "source": [
    "plot(xx, yy)"
   ]
  },
  {
   "cell_type": "code",
   "execution_count": null,
   "id": "1d022404",
   "metadata": {},
   "outputs": [],
   "source": [
    "exponent = rep(0, length(xx))\n",
    "for (ii in 1:length(rfs))\n",
    "    exponent <- exponent + lambdas[ii] * rfuncs[[rfs[ii]]](xx)\n",
    "\n",
    "yy = exp(exponent)"
   ]
  },
  {
   "cell_type": "code",
   "execution_count": null,
   "id": "b4204c80",
   "metadata": {
    "scrolled": true
   },
   "outputs": [],
   "source": [
    "plot(xx, yy)"
   ]
  },
  {
   "cell_type": "code",
   "execution_count": null,
   "id": "51f84252",
   "metadata": {},
   "outputs": [],
   "source": [
    "yy = c()\n",
    "for (x in xx) {\n",
    "    terms = sapply(1:length(rfs), function(ii) lambdas[ii] * rfuncs[[rfs[ii]]](x))\n",
    "    yy = c(yy, exp(sum(terms)))\n",
    "}"
   ]
  },
  {
   "cell_type": "code",
   "execution_count": null,
   "id": "eb1e48b2",
   "metadata": {
    "scrolled": true
   },
   "outputs": [],
   "source": [
    "plot(xx, yy)"
   ]
  },
  {
   "cell_type": "code",
   "execution_count": null,
   "id": "5b5fea74",
   "metadata": {},
   "outputs": [],
   "source": [
    "sapply(1:length(rfs), function(ii) lambdas[ii] * rfuncs[[rfs[ii]]](xx))"
   ]
  },
  {
   "cell_type": "code",
   "execution_count": null,
   "id": "8e880b37",
   "metadata": {},
   "outputs": [],
   "source": [
    "terms = sapply(1:length(rfs), function(ii) lambdas[ii] * rfuncs[[rfs[ii]]](xx))\n",
    "yy = exp(rowSums(terms))"
   ]
  },
  {
   "cell_type": "code",
   "execution_count": null,
   "id": "743d0739",
   "metadata": {
    "scrolled": true
   },
   "outputs": [],
   "source": [
    "plot(xx, yy)"
   ]
  },
  {
   "cell_type": "code",
   "execution_count": null,
   "id": "7163ab44",
   "metadata": {},
   "outputs": [],
   "source": [
    "yy = exp(rowSums(sapply(1:length(rfs), function(ii) lambdas[ii] * rfuncs[[rfs[ii]]](xx))))"
   ]
  },
  {
   "cell_type": "code",
   "execution_count": null,
   "id": "88a5f06e",
   "metadata": {},
   "outputs": [],
   "source": [
    "plot(xx, yy)"
   ]
  },
  {
   "cell_type": "markdown",
   "id": "bbd12135",
   "metadata": {},
   "source": [
    "## Other equations\n",
    "* Entropy of a distribution\n",
    "* Uniform distribution\n",
    "* Variance of a distribution\n",
    "* Choosing witdth of a uniform distribution\n",
    "* Frequency-domain to time-domain"
   ]
  },
  {
   "cell_type": "markdown",
   "id": "a781244c",
   "metadata": {},
   "source": [
    "To calculate the entropy of a distribution, $X \\sim f(x)$, we need to compute:\n",
    "$$H(X) = -\\sum_{i=1}^N f(x_i) \\log_2 f(x_i)$$\n",
    "\n",
    "Let $x = [1, 2, 3, 4, 5, 6]$, $f(x) = 1/6$."
   ]
  },
  {
   "cell_type": "code",
   "execution_count": null,
   "id": "9a1a6d8d",
   "metadata": {},
   "outputs": [],
   "source": [
    "xx = 1:6\n",
    "ff = rep(1 / 6, length(xx))"
   ]
  },
  {
   "cell_type": "code",
   "execution_count": null,
   "id": "cead9408",
   "metadata": {},
   "outputs": [],
   "source": [
    "???"
   ]
  },
  {
   "cell_type": "markdown",
   "id": "f7417bbb",
   "metadata": {},
   "source": [
    "Try applying this to the MaxEnt distribution. First need to normalize it."
   ]
  },
  {
   "cell_type": "code",
   "execution_count": null,
   "id": "8757d06d",
   "metadata": {},
   "outputs": [],
   "source": [
    "ff = yy / sum(yy)"
   ]
  },
  {
   "cell_type": "code",
   "execution_count": null,
   "id": "1066e65c",
   "metadata": {
    "scrolled": true
   },
   "outputs": [],
   "source": [
    "???"
   ]
  },
  {
   "cell_type": "code",
   "execution_count": null,
   "id": "e279c7f2",
   "metadata": {},
   "outputs": [],
   "source": [
    "xx = seq(-10, 10, length.out=200)\n",
    "yy = dnorm(xx, 3, 2)\n",
    "ff = yy / sum(yy)"
   ]
  },
  {
   "cell_type": "code",
   "execution_count": null,
   "id": "2e96ce56",
   "metadata": {
    "scrolled": true
   },
   "outputs": [],
   "source": [
    "???"
   ]
  },
  {
   "cell_type": "markdown",
   "id": "45ccdb30",
   "metadata": {},
   "source": [
    "What about the entropy of a uniform distribution, with the same mean and standard deviation?\n",
    "\n",
    "Define our (unnormalized) uniform distribution is defined as\n",
    "$$f(x) = \\begin{cases}\n",
    "1 & \\text{if $|x - \\mu| < \\Delta$} \\\\\n",
    "0 & \\text{otherwise}\n",
    "\\end{cases}$$\n",
    "\n",
    "Let $x$ be sampled as before, $\\mu = 3$ and $\\Delta = 1$."
   ]
  },
  {
   "cell_type": "code",
   "execution_count": null,
   "id": "a41ccf1d",
   "metadata": {},
   "outputs": [],
   "source": [
    "mu = 3\n",
    "delta = 1"
   ]
  },
  {
   "cell_type": "code",
   "execution_count": null,
   "id": "54ab38a1",
   "metadata": {},
   "outputs": [],
   "source": [
    "???"
   ]
  },
  {
   "cell_type": "code",
   "execution_count": null,
   "id": "ffdfd716",
   "metadata": {
    "scrolled": true
   },
   "outputs": [],
   "source": [
    "plot(xx, yy)"
   ]
  },
  {
   "cell_type": "markdown",
   "id": "04634f58",
   "metadata": {},
   "source": [
    "What is the variance of that distribution?\n",
    "$$\\text{Variance}(X) = E[(X - \\mu)^2] = \\sum_i (x_i - \\mu)^2 f(x_i)$$"
   ]
  },
  {
   "cell_type": "code",
   "execution_count": null,
   "id": "3df3d141",
   "metadata": {},
   "outputs": [],
   "source": [
    "ff = yy / sum(yy)"
   ]
  },
  {
   "cell_type": "code",
   "execution_count": null,
   "id": "3e2e21b8",
   "metadata": {},
   "outputs": [],
   "source": [
    "???"
   ]
  },
  {
   "cell_type": "markdown",
   "id": "248f6a4b",
   "metadata": {},
   "source": [
    "How wide should that distribution be?"
   ]
  },
  {
   "cell_type": "code",
   "execution_count": null,
   "id": "5150e954",
   "metadata": {},
   "outputs": [],
   "source": [
    "varerror = function(delta) {\n",
    "    ???\n",
    "}"
   ]
  },
  {
   "cell_type": "code",
   "execution_count": null,
   "id": "1280b48f",
   "metadata": {
    "scrolled": true
   },
   "outputs": [],
   "source": [
    "optimize(varerror, c(0, 10))"
   ]
  },
  {
   "cell_type": "markdown",
   "id": "e0d264c2",
   "metadata": {},
   "source": [
    "Let's compare these."
   ]
  },
  {
   "cell_type": "code",
   "execution_count": null,
   "id": "66dbfb47",
   "metadata": {},
   "outputs": [],
   "source": [
    "yy1 = ???\n",
    "ff1 = yy1 / sum(yy1)\n",
    "yy2 = dnorm(xx, 3, 2)\n",
    "ff2 = yy2 / sum(yy2)"
   ]
  },
  {
   "cell_type": "code",
   "execution_count": null,
   "id": "e874e238",
   "metadata": {},
   "outputs": [],
   "source": [
    "plot(xx, ff2, col=1)\n",
    "points(xx, ff1, col=2)"
   ]
  },
  {
   "cell_type": "code",
   "execution_count": null,
   "id": "5a2dfc79",
   "metadata": {
    "scrolled": false
   },
   "outputs": [],
   "source": [
    "???"
   ]
  },
  {
   "cell_type": "code",
   "execution_count": null,
   "id": "c82c3d8b",
   "metadata": {},
   "outputs": [],
   "source": [
    "???"
   ]
  },
  {
   "cell_type": "markdown",
   "id": "d5b77e65",
   "metadata": {},
   "source": [
    "To translate from a frequency-domain spectrum to a time-domain series, we need to compute:\n",
    "$$f(t) = \\sum_{i=1}^N A_i cos(2 \\pi f_i t - \\theta_i)$$\n",
    "\n",
    "Let $A_i = [4, 2, 1, 0.5]$, $f = [1, 2, 3, 4]$, $\\theta = [0, \\pi/2, \\pi, 3\\pi/2]$.\n",
    "\n",
    "Evaluate the function at 100 points from 0 to 4."
   ]
  },
  {
   "cell_type": "code",
   "execution_count": null,
   "id": "1a664f01",
   "metadata": {},
   "outputs": [],
   "source": [
    "AA = c(4, 2, 1, 0.5)\n",
    "ff = c(1, 2, 3, 4)\n",
    "theta = c(0, pi/2, pi, 3*pi/2)"
   ]
  },
  {
   "cell_type": "code",
   "execution_count": null,
   "id": "91711b52",
   "metadata": {},
   "outputs": [],
   "source": [
    "tt = ???"
   ]
  },
  {
   "cell_type": "code",
   "execution_count": null,
   "id": "0790cdbb",
   "metadata": {},
   "outputs": [],
   "source": [
    "???"
   ]
  },
  {
   "cell_type": "code",
   "execution_count": null,
   "id": "c8c12b37",
   "metadata": {},
   "outputs": [],
   "source": [
    "plot(tt, xx, type='l')"
   ]
  }
 ],
 "metadata": {
  "kernelspec": {
   "display_name": "R",
   "language": "R",
   "name": "ir"
  },
  "language_info": {
   "codemirror_mode": "r",
   "file_extension": ".r",
   "mimetype": "text/x-r-source",
   "name": "R",
   "pygments_lexer": "r",
   "version": "4.1.1"
  }
 },
 "nbformat": 4,
 "nbformat_minor": 5
}
