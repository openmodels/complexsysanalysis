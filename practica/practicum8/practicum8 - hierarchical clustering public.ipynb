{
 "cells": [
  {
   "cell_type": "code",
   "execution_count": null,
   "id": "5bb77281",
   "metadata": {},
   "outputs": [],
   "source": [
    "df = read.csv(\"sdsurvey.csv\")"
   ]
  },
  {
   "cell_type": "markdown",
   "id": "29ad65f0",
   "metadata": {},
   "source": [
    "### Normalize across subjects and disciplines"
   ]
  },
  {
   "cell_type": "code",
   "execution_count": null,
   "id": "24c06770",
   "metadata": {},
   "outputs": [],
   "source": [
    "names(df)[1:12]"
   ]
  },
  {
   "cell_type": "code",
   "execution_count": null,
   "id": "264554e5",
   "metadata": {},
   "outputs": [],
   "source": [
    "names(df)[13:25]"
   ]
  },
  {
   "cell_type": "code",
   "execution_count": null,
   "id": "103a86ee",
   "metadata": {},
   "outputs": [],
   "source": [
    "df[is.na(df)] = 0"
   ]
  },
  {
   "cell_type": "code",
   "execution_count": null,
   "id": "733ade5b",
   "metadata": {},
   "outputs": [],
   "source": [
    "dfnorm = df[, 1:25]"
   ]
  },
  {
   "cell_type": "code",
   "execution_count": null,
   "id": "fc5597b7",
   "metadata": {},
   "outputs": [],
   "source": [
    "dfnorm[, 1:12] = df[, 1:12] / rowSums(df[, 1:12])"
   ]
  },
  {
   "cell_type": "code",
   "execution_count": null,
   "id": "ecd15897",
   "metadata": {},
   "outputs": [],
   "source": [
    "dfnorm[, 13:25] = df[, 13:25] / rowSums(df[, 13:25])"
   ]
  },
  {
   "cell_type": "code",
   "execution_count": null,
   "id": "0fb901fb",
   "metadata": {},
   "outputs": [],
   "source": [
    "rowSums(dfnorm)"
   ]
  },
  {
   "cell_type": "code",
   "execution_count": null,
   "id": "99ab7f31",
   "metadata": {
    "scrolled": true
   },
   "outputs": [],
   "source": [
    "dfnorm"
   ]
  },
  {
   "cell_type": "code",
   "execution_count": null,
   "id": "b0cacf9a",
   "metadata": {},
   "outputs": [],
   "source": [
    "d <- dist(dfnorm, method = \"euclidean\") # distance matrix"
   ]
  },
  {
   "cell_type": "code",
   "execution_count": null,
   "id": "6c6baa76",
   "metadata": {},
   "outputs": [],
   "source": [
    "which(as.matrix(d) == min(d), arr.ind=T)"
   ]
  },
  {
   "cell_type": "code",
   "execution_count": null,
   "id": "9851ede1",
   "metadata": {},
   "outputs": [],
   "source": [
    "which(as.matrix(d) == max(d), arr.ind=T)"
   ]
  },
  {
   "cell_type": "code",
   "execution_count": null,
   "id": "9172f895",
   "metadata": {},
   "outputs": [],
   "source": [
    "fit <- hclust(d, method=\"complete\")"
   ]
  },
  {
   "cell_type": "code",
   "execution_count": null,
   "id": "cc807c6c",
   "metadata": {},
   "outputs": [],
   "source": [
    "plot(fit)"
   ]
  },
  {
   "cell_type": "code",
   "execution_count": null,
   "id": "10945ba4",
   "metadata": {},
   "outputs": [],
   "source": [
    "plot(fit) # display dendogram\n",
    "rect.hclust(fit, k=3, border=\"red\") "
   ]
  },
  {
   "cell_type": "code",
   "execution_count": null,
   "id": "0f8d4eb7",
   "metadata": {},
   "outputs": [],
   "source": [
    "groups <- cutree(fit, k=3) # cut tree into 3 clusters\n",
    "groups"
   ]
  },
  {
   "cell_type": "code",
   "execution_count": null,
   "id": "695a8fec",
   "metadata": {},
   "outputs": [],
   "source": [
    "round(colMeans(dfnorm[groups == 1,]) * 14)"
   ]
  },
  {
   "cell_type": "code",
   "execution_count": null,
   "id": "1a1d7e3a",
   "metadata": {},
   "outputs": [],
   "source": [
    "round(colMeans(dfnorm[groups == 2,]) * 14)"
   ]
  },
  {
   "cell_type": "code",
   "execution_count": null,
   "id": "8a90af1e",
   "metadata": {},
   "outputs": [],
   "source": [
    "round(colMeans(dfnorm[groups == 3,]) * 14)"
   ]
  },
  {
   "cell_type": "code",
   "execution_count": null,
   "id": "3d9aa278",
   "metadata": {},
   "outputs": [],
   "source": [
    "names(fit)"
   ]
  },
  {
   "cell_type": "code",
   "execution_count": null,
   "id": "1408d138",
   "metadata": {},
   "outputs": [],
   "source": [
    "fit$order"
   ]
  },
  {
   "cell_type": "code",
   "execution_count": null,
   "id": "08a7f7b2",
   "metadata": {},
   "outputs": [],
   "source": [
    "plot(df$d.empmicro[fit$order])"
   ]
  },
  {
   "cell_type": "code",
   "execution_count": null,
   "id": "4afa6db5",
   "metadata": {},
   "outputs": [],
   "source": [
    "plot(sapply(fit$order, function(ii) sd(dfnorm[ii, 1:12])))"
   ]
  }
 ],
 "metadata": {
  "kernelspec": {
   "display_name": "R",
   "language": "R",
   "name": "ir"
  },
  "language_info": {
   "codemirror_mode": "r",
   "file_extension": ".r",
   "mimetype": "text/x-r-source",
   "name": "R",
   "pygments_lexer": "r",
   "version": "4.1.1"
  }
 },
 "nbformat": 4,
 "nbformat_minor": 5
}
