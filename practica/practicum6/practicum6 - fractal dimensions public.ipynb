{
 "cells": [
  {
   "cell_type": "markdown",
   "id": "caae508d",
   "metadata": {},
   "source": [
    "# The Box dimension"
   ]
  },
  {
   "cell_type": "markdown",
   "id": "e0c36ba7",
   "metadata": {},
   "source": [
    "Fractal 1 is a line:"
   ]
  },
  {
   "cell_type": "code",
   "execution_count": null,
   "id": "793a9af7",
   "metadata": {},
   "outputs": [],
   "source": [
    "fractal1 = data.frame(X=seq(0, AAA, length.out=1000), Y=seq(0, BBB, length.out=1000))"
   ]
  },
  {
   "cell_type": "code",
   "execution_count": null,
   "id": "3971bc84",
   "metadata": {},
   "outputs": [],
   "source": [
    "library(ggplot2)"
   ]
  },
  {
   "cell_type": "code",
   "execution_count": null,
   "id": "b8442c33",
   "metadata": {
    "scrolled": true
   },
   "outputs": [],
   "source": [
    "ggplot(fractal1, aes(X, Y)) + geom_line()"
   ]
  },
  {
   "cell_type": "code",
   "execution_count": null,
   "id": "c7f7e136",
   "metadata": {},
   "outputs": [],
   "source": [
    "boxsize = 10"
   ]
  },
  {
   "cell_type": "code",
   "execution_count": null,
   "id": "6e9dc54e",
   "metadata": {
    "scrolled": true
   },
   "outputs": [],
   "source": [
    "paste(floor(fractal1$X / boxsize), floor(fractal1$Y / boxsize))"
   ]
  },
  {
   "cell_type": "code",
   "execution_count": null,
   "id": "c4f613c9",
   "metadata": {
    "scrolled": true
   },
   "outputs": [],
   "source": [
    "unique(paste(floor(fractal1$X / boxsize), floor(fractal1$Y / boxsize)))"
   ]
  },
  {
   "cell_type": "code",
   "execution_count": null,
   "id": "a206cc91",
   "metadata": {},
   "outputs": [],
   "source": [
    "results = data.frame()\n",
    "while (boxsize > 1e-2) {\n",
    "    numbox = length(unique(paste(floor(fractal1$X / boxsize), floor(fractal1$Y / boxsize))))\n",
    "    results = rbind(results, data.frame(numbox, boxsize))\n",
    "    boxsize = boxsize / 2\n",
    "}"
   ]
  },
  {
   "cell_type": "code",
   "execution_count": null,
   "id": "3cfb9b68",
   "metadata": {},
   "outputs": [],
   "source": [
    "results"
   ]
  },
  {
   "cell_type": "code",
   "execution_count": null,
   "id": "ffea64a8",
   "metadata": {},
   "outputs": [],
   "source": [
    "results$logsize = log(results$boxsize)\n",
    "results$lognum = log(results$numbox)"
   ]
  },
  {
   "cell_type": "code",
   "execution_count": null,
   "id": "55dfc063",
   "metadata": {
    "scrolled": false
   },
   "outputs": [],
   "source": [
    "ggplot(results, aes(logsize, lognum)) + geom_point() + coord_equal()"
   ]
  },
  {
   "cell_type": "code",
   "execution_count": null,
   "id": "96edf8ba",
   "metadata": {},
   "outputs": [],
   "source": [
    "summary(lm(lognum ~ logsize, data=results))"
   ]
  },
  {
   "cell_type": "code",
   "execution_count": null,
   "id": "5757001b",
   "metadata": {
    "scrolled": false
   },
   "outputs": [],
   "source": [
    "summary(lm(lognum ~ logsize, data=results[-1:-5,]))"
   ]
  },
  {
   "cell_type": "markdown",
   "id": "50ff4b91",
   "metadata": {},
   "source": [
    "Fractal 2 is a 2-D filled in region."
   ]
  },
  {
   "cell_type": "code",
   "execution_count": null,
   "id": "03116dc3",
   "metadata": {},
   "outputs": [],
   "source": [
    "fractal2 = expand.grid(X=seq(0, AAA, length.out=1000), Y=seq(0, BBB, length.out=1000))"
   ]
  },
  {
   "cell_type": "code",
   "execution_count": null,
   "id": "dd72deb8",
   "metadata": {},
   "outputs": [],
   "source": [
    "boxsize = 10\n",
    "results = data.frame()\n",
    "while (boxsize > 1e-2) {\n",
    "    numbox = length(unique(paste(floor(fractal2$X / boxsize), floor(fractal2$Y / boxsize))))\n",
    "    results = rbind(results, data.frame(numbox, boxsize))\n",
    "    boxsize = boxsize / 2\n",
    "}"
   ]
  },
  {
   "cell_type": "code",
   "execution_count": null,
   "id": "a33e19ff",
   "metadata": {},
   "outputs": [],
   "source": [
    "results"
   ]
  },
  {
   "cell_type": "code",
   "execution_count": null,
   "id": "d835e16c",
   "metadata": {},
   "outputs": [],
   "source": [
    "results$logsize = log(results$boxsize)\n",
    "results$lognum = log(results$numbox)\n",
    "ggplot(results, aes(logsize, lognum)) + geom_point() + coord_equal()"
   ]
  },
  {
   "cell_type": "code",
   "execution_count": null,
   "id": "94c61c5e",
   "metadata": {
    "scrolled": true
   },
   "outputs": [],
   "source": [
    "summary(lm(lognum ~ logsize, data=results))"
   ]
  },
  {
   "cell_type": "code",
   "execution_count": null,
   "id": "2915228f",
   "metadata": {},
   "outputs": [],
   "source": [
    "summary(lm(lognum ~ logsize, data=results[-1:-5,]))"
   ]
  },
  {
   "cell_type": "markdown",
   "id": "aa56ee52",
   "metadata": {},
   "source": [
    "Fractal 3 is the Chesapeake Bay."
   ]
  },
  {
   "cell_type": "code",
   "execution_count": null,
   "id": "052a811d",
   "metadata": {
    "scrolled": true
   },
   "outputs": [],
   "source": [
    "install.packages(\"PBSmapping\")\n",
    "library(PBSmapping)"
   ]
  },
  {
   "cell_type": "code",
   "execution_count": null,
   "id": "e3551f70",
   "metadata": {},
   "outputs": [],
   "source": [
    "shp = importShapefile(\"coastline/GSHHS_f_L1.shp\")"
   ]
  },
  {
   "cell_type": "code",
   "execution_count": null,
   "id": "08bad109",
   "metadata": {
    "scrolled": true
   },
   "outputs": [],
   "source": [
    "head(shp)"
   ]
  },
  {
   "cell_type": "code",
   "execution_count": null,
   "id": "57365ecb",
   "metadata": {},
   "outputs": [],
   "source": [
    "chesapeake = subset(shp, X > -78 & X < -75.5 & Y > 37 & Y < 40)"
   ]
  },
  {
   "cell_type": "code",
   "execution_count": null,
   "id": "edd78b78",
   "metadata": {
    "scrolled": true
   },
   "outputs": [],
   "source": [
    "ggplot(chesapeake, aes(X, Y)) + geom_point()"
   ]
  },
  {
   "cell_type": "code",
   "execution_count": null,
   "id": "09b9ec04",
   "metadata": {},
   "outputs": [],
   "source": [
    "mean(abs(diff(chesapeake$X)))"
   ]
  },
  {
   "cell_type": "code",
   "execution_count": null,
   "id": "c2226cc9",
   "metadata": {},
   "outputs": [],
   "source": [
    "boxsize = 10\n",
    "results = data.frame()\n",
    "while (boxsize > 1e-2) {\n",
    "    numbox = length(unique(paste(floor(chesapeake$X / boxsize), floor(chesapeake$Y / boxsize))))\n",
    "    results = rbind(results, data.frame(numbox, boxsize))\n",
    "    boxsize = boxsize / 2\n",
    "}"
   ]
  },
  {
   "cell_type": "code",
   "execution_count": null,
   "id": "05d5f05d",
   "metadata": {},
   "outputs": [],
   "source": [
    "results$logsize = log(results$boxsize)\n",
    "results$lognum = log(results$numbox)\n",
    "ggplot(results, aes(logsize, lognum)) + geom_point() + coord_equal()"
   ]
  },
  {
   "cell_type": "code",
   "execution_count": null,
   "id": "2dd859fe",
   "metadata": {},
   "outputs": [],
   "source": [
    "summary(lm(lognum ~ logsize, data=results[-1:-5,]))"
   ]
  },
  {
   "cell_type": "markdown",
   "id": "44fa45b0",
   "metadata": {},
   "source": [
    "How long is the bay coastline?"
   ]
  },
  {
   "cell_type": "code",
   "execution_count": null,
   "id": "05f81047",
   "metadata": {},
   "outputs": [],
   "source": [
    "results"
   ]
  }
 ],
 "metadata": {
  "kernelspec": {
   "display_name": "R",
   "language": "R",
   "name": "ir"
  },
  "language_info": {
   "codemirror_mode": "r",
   "file_extension": ".r",
   "mimetype": "text/x-r-source",
   "name": "R",
   "pygments_lexer": "r",
   "version": "4.1.1"
  }
 },
 "nbformat": 4,
 "nbformat_minor": 5
}
