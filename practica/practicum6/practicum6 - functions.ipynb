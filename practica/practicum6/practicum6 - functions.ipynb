{
 "cells": [
  {
   "cell_type": "markdown",
   "id": "16ba1da7",
   "metadata": {},
   "source": [
    "Functions are stored in variables."
   ]
  },
  {
   "cell_type": "code",
   "execution_count": null,
   "id": "20542303",
   "metadata": {},
   "outputs": [],
   "source": [
    "func = function(x) {\n",
    "    x^2\n",
    "}"
   ]
  },
  {
   "cell_type": "code",
   "execution_count": null,
   "id": "2ed0a50b",
   "metadata": {},
   "outputs": [],
   "source": [
    "func(3)"
   ]
  },
  {
   "cell_type": "code",
   "execution_count": null,
   "id": "e66f9779",
   "metadata": {},
   "outputs": [],
   "source": [
    "squarer = func"
   ]
  },
  {
   "cell_type": "code",
   "execution_count": null,
   "id": "e7acc9b2",
   "metadata": {},
   "outputs": [],
   "source": [
    "squarer(3)"
   ]
  },
  {
   "cell_type": "markdown",
   "id": "c2fd8852",
   "metadata": {},
   "source": [
    "Vectors can only store simple values (numbers, booleans), but a `list` can store anything."
   ]
  },
  {
   "cell_type": "code",
   "execution_count": null,
   "id": "3f7a44dd",
   "metadata": {},
   "outputs": [],
   "source": [
    "list(3, 'a', 1:5)"
   ]
  },
  {
   "cell_type": "code",
   "execution_count": null,
   "id": "c1cb7aa8",
   "metadata": {},
   "outputs": [],
   "source": [
    "mylist = list(3, 'a', 1:5)"
   ]
  },
  {
   "cell_type": "code",
   "execution_count": null,
   "id": "7eb01598",
   "metadata": {},
   "outputs": [],
   "source": [
    "mylist[[1]]"
   ]
  },
  {
   "cell_type": "code",
   "execution_count": null,
   "id": "ca2bc973",
   "metadata": {},
   "outputs": [],
   "source": [
    "mylist[[2]]"
   ]
  },
  {
   "cell_type": "code",
   "execution_count": null,
   "id": "504a6bf2",
   "metadata": {},
   "outputs": [],
   "source": [
    "mylist[[4]] = func"
   ]
  },
  {
   "cell_type": "code",
   "execution_count": null,
   "id": "83ffb4f7",
   "metadata": {},
   "outputs": [],
   "source": [
    "mylist"
   ]
  },
  {
   "cell_type": "code",
   "execution_count": null,
   "id": "fdbec81c",
   "metadata": {},
   "outputs": [],
   "source": [
    "mylist[[4]](3)"
   ]
  },
  {
   "cell_type": "code",
   "execution_count": null,
   "id": "5be08406",
   "metadata": {},
   "outputs": [],
   "source": [
    "otherlist = list(a=3, b=func, c=mylist)"
   ]
  },
  {
   "cell_type": "code",
   "execution_count": null,
   "id": "c347cafa",
   "metadata": {},
   "outputs": [],
   "source": [
    "otherlist[['a']]"
   ]
  },
  {
   "cell_type": "code",
   "execution_count": null,
   "id": "4a886996",
   "metadata": {},
   "outputs": [],
   "source": [
    "otherlist[['b']]"
   ]
  },
  {
   "cell_type": "code",
   "execution_count": null,
   "id": "95ad1d40",
   "metadata": {},
   "outputs": [],
   "source": [
    "otherlist[['c']]"
   ]
  },
  {
   "cell_type": "code",
   "execution_count": null,
   "id": "3f0df25b",
   "metadata": {},
   "outputs": [],
   "source": [
    "otherlist$a"
   ]
  },
  {
   "cell_type": "code",
   "execution_count": null,
   "id": "c85e4376",
   "metadata": {},
   "outputs": [],
   "source": [
    "otherlist$b"
   ]
  },
  {
   "cell_type": "code",
   "execution_count": null,
   "id": "cfb89f8e",
   "metadata": {
    "scrolled": true
   },
   "outputs": [],
   "source": [
    "otherlist$c"
   ]
  },
  {
   "cell_type": "code",
   "execution_count": null,
   "id": "7d866a74",
   "metadata": {},
   "outputs": [],
   "source": [
    "otherlist[['c']][[3]][3]"
   ]
  }
 ],
 "metadata": {
  "kernelspec": {
   "display_name": "R",
   "language": "R",
   "name": "ir"
  },
  "language_info": {
   "codemirror_mode": "r",
   "file_extension": ".r",
   "mimetype": "text/x-r-source",
   "name": "R",
   "pygments_lexer": "r",
   "version": "4.1.1"
  }
 },
 "nbformat": 4,
 "nbformat_minor": 5
}
